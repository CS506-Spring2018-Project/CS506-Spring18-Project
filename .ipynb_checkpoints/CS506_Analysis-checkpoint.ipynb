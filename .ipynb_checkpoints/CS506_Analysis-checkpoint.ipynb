{
 "cells": [
  {
   "cell_type": "markdown",
   "metadata": {},
   "source": [
    "# Data Analysis for CS506 Project\n",
    "\n",
    "In CS506_DataProcessing_Graph.ipynb file, datasets are processed and cleaned finally store in 2 csv files. Two files are: **df_201x_BU_analysis_E_Final.csv** and **df_201x_BU_analysis_G_Final.csv**. In this analysis, we directly use those two files to do the analysis"
   ]
  },
  {
   "cell_type": "code",
   "execution_count": 1,
   "metadata": {
    "collapsed": true
   },
   "outputs": [],
   "source": [
    "# Import files\n",
    "import csv\n",
    "import pandas as pd\n",
    "import numpy as np\n",
    "from sklearn.preprocessing import normalize\n",
    "from sklearn.metrics import mean_squared_error\n",
    "from sklearn.linear_model import LinearRegression\n"
   ]
  },
  {
   "cell_type": "code",
   "execution_count": 2,
   "metadata": {
    "collapsed": true
   },
   "outputs": [],
   "source": [
    "# Read data\n",
    "df_BU_analysis_E = pd.read_csv('df_201x_BU_analysis_E_Final.csv', index_col=0)\n",
    "df_BU_analysis_G = pd.read_csv('df_201x_BU_analysis_G_Final.csv', index_col=0)"
   ]
  },
  {
   "cell_type": "code",
   "execution_count": 3,
   "metadata": {
    "collapsed": true
   },
   "outputs": [],
   "source": [
    "# Browsing data for Electricity\n",
    "# df_BU_analysis_E.head(10)"
   ]
  },
  {
   "cell_type": "code",
   "execution_count": 4,
   "metadata": {
    "collapsed": true
   },
   "outputs": [],
   "source": [
    "# Browsing data for Gas\n",
    "# df_BU_analysis_G.head(10)"
   ]
  },
  {
   "cell_type": "markdown",
   "metadata": {},
   "source": [
    "## Linear Regression"
   ]
  },
  {
   "cell_type": "code",
   "execution_count": 5,
   "metadata": {},
   "outputs": [
    {
     "name": "stdout",
     "output_type": "stream",
     "text": [
      "Index(['Temperature', 'WI', 'GHGI', 'Age', 'Uses_College', 'Uses_Sports',\n",
      "       'Uses_ResidentHousing', 'Uses_Laboratory', 'Uses_Office', 'Uses_Hotel',\n",
      "       'Uses_Distribution', 'Uses_Food', 'Uses_Worship', 'Uses_Medical',\n",
      "       'Y_Gas'],\n",
      "      dtype='object')\n",
      "Index(['Temperature', 'WI', 'GHGI', 'Age', 'Uses_College', 'Uses_Sports',\n",
      "       'Uses_ResidentHousing', 'Uses_Laboratory', 'Uses_Office', 'Uses_Hotel',\n",
      "       'Uses_Distribution', 'Uses_Food', 'Uses_Worship', 'Uses_Medical',\n",
      "       'Y_Electric'],\n",
      "      dtype='object')\n",
      "BU_data shape\n",
      "(1512, 15)\n",
      "(1404, 15)\n",
      "(1512, 15)\n",
      "(1404, 15)\n",
      "\n",
      "Training Data Shape:\n",
      "(1360, 14)\n",
      "(1263, 14)\n",
      "\n",
      "(1360,)\n",
      "(1263,)\n",
      "\n",
      "Testing Data Shape:\n",
      "(152, 14)\n",
      "(141, 14)\n",
      "\n",
      "(152,)\n",
      "(141,)\n"
     ]
    }
   ],
   "source": [
    "# Linear Regression:\n",
    "\n",
    "# Using Sklearn linear model to do the prediction\n",
    "linearModel_E = LinearRegression(fit_intercept=True, normalize = True)\n",
    "linearModel_G = LinearRegression(fit_intercept=True, normalize = True)\n",
    "\n",
    "# Data for E and G\n",
    "print(df_BU_analysis_G.columns)\n",
    "print(df_BU_analysis_E.columns)\n",
    "\n",
    "\n",
    "\n",
    "# Generating Training and Testing sets for 2 regressions (Electricity, Gas)\n",
    "df_BU_analysis_E_shuffle = df_BU_analysis_E.sample(frac = 1)\n",
    "df_BU_analysis_G_shuffle = df_BU_analysis_G.sample(frac = 1)\n",
    "\n",
    "num_e = int(len(df_BU_analysis_E_shuffle)*0.9)\n",
    "num_g = int(len(df_BU_analysis_G_shuffle)*0.9)\n",
    "\n",
    "df_BU_training_E = df_BU_analysis_E_shuffle.iloc[:num_e, :]\n",
    "df_BU_testing_E = df_BU_analysis_E_shuffle.iloc[num_e:, :]\n",
    "\n",
    "df_BU_training_G = df_BU_analysis_G_shuffle.iloc[:num_g, :]\n",
    "df_BU_testing_G = df_BU_analysis_G_shuffle.iloc[num_g:, :]\n",
    "\n",
    "\n",
    "X_column = ['Temperature', 'WI', 'GHGI', 'Age', 'Uses_College', 'Uses_Sports', 'Uses_ResidentHousing', 'Uses_Laboratory', 'Uses_Office', 'Uses_Hotel', 'Uses_Distribution', 'Uses_Food', 'Uses_Worship', 'Uses_Medical']\n",
    "# X_column = ['Temperature', 'WI', 'Age', 'Uses_College', 'Uses_Sports', 'Uses_ResidentHousing', 'Uses_Laboratory', 'Uses_Office', 'Uses_Hotel', 'Uses_Distribution', 'Uses_Food', 'Uses_Worship', 'Uses_Medical']\n",
    "\n",
    "\n",
    "# Traning Data\n",
    "X_E = df_BU_training_E[X_column]\n",
    "X_G = df_BU_training_G[X_column]\n",
    "\n",
    "Y_E = df_BU_training_E['Y_Electric']\n",
    "Y_G = df_BU_training_G['Y_Gas']\n",
    "\n",
    "\n",
    "# Testing Data\n",
    "X_E_test = df_BU_testing_E[X_column]\n",
    "X_G_test = df_BU_testing_G[X_column]\n",
    "\n",
    "Y_E_test = df_BU_testing_E['Y_Electric']\n",
    "Y_G_test = df_BU_testing_G['Y_Gas']\n",
    "\n",
    "print('BU_data shape')\n",
    "print(df_BU_analysis_E.shape)\n",
    "print(df_BU_analysis_G.shape)\n",
    "print(df_BU_analysis_E_shuffle.shape)\n",
    "print(df_BU_analysis_G_shuffle.shape)\n",
    "\n",
    "print()\n",
    "print('Training Data Shape:')\n",
    "print(X_E.shape)\n",
    "print(X_G.shape)\n",
    "print()\n",
    "print(Y_E.shape)\n",
    "print(Y_G.shape)\n",
    "\n",
    "\n",
    "print()\n",
    "print('Testing Data Shape:')\n",
    "print(X_E_test.shape)\n",
    "print(X_G_test.shape)\n",
    "print()\n",
    "print(Y_E_test.shape)\n",
    "print(Y_G_test.shape)"
   ]
  },
  {
   "cell_type": "code",
   "execution_count": 6,
   "metadata": {},
   "outputs": [
    {
     "name": "stdout",
     "output_type": "stream",
     "text": [
      "E: Parameters\n",
      "(14,)\n",
      "-48.0874305023\n",
      "\n",
      "G: Parameters\n",
      "(14,)\n",
      "59.8382112203\n"
     ]
    }
   ],
   "source": [
    "# Run the regression:\n",
    "\n",
    "X_column = ['Temperature', 'WI', 'GHGI', 'Age', 'Uses_College', 'Uses_Sports', 'Uses_ResidentHousing', 'Uses_Laboratory', 'Uses_Office', 'Uses_Hotel', 'Uses_Distribution', 'Uses_Food', 'Uses_Worship', 'Uses_Medical']\n",
    "# X_column = ['Temperature', 'WI', 'Age', 'Uses_College', 'Uses_Sports', 'Uses_ResidentHousing', 'Uses_Laboratory', 'Uses_Office', 'Uses_Hotel', 'Uses_Distribution', 'Uses_Food', 'Uses_Worship', 'Uses_Medical']\n",
    "\n",
    "\n",
    "linearModel_E.fit(X_E, Y_E)\n",
    "linearModel_G.fit(X_G, Y_G)\n",
    "\n",
    "np.set_printoptions(suppress=True)\n",
    "\n",
    "print('E: Parameters')\n",
    "print(linearModel_E.coef_.shape)\n",
    "print(linearModel_E.intercept_)\n",
    "\n",
    "print()\n",
    "print('G: Parameters')\n",
    "print(linearModel_G.coef_.shape)\n",
    "print(linearModel_G.intercept_)\n",
    "\n",
    "\n",
    "coef_E = linearModel_E.coef_\n",
    "coef_G = linearModel_G.coef_\n",
    "\n",
    "coef_E = coef_E.reshape(coef_E.shape[0], 1)\n",
    "coef_G = coef_G.reshape(coef_G.shape[0], 1)\n",
    "\n",
    "df_coef_E = pd.DataFrame(coef_E.T, columns = X_column)\n",
    "df_coef_G = pd.DataFrame(coef_G.T, columns = X_column)\n",
    "\n",
    "df_coef_E['Const'] = linearModel_E.intercept_\n",
    "df_coef_G['Const'] = linearModel_G.intercept_\n",
    "# print(df_coef_E)\n",
    "# print()\n",
    "# print(df_coef_G)"
   ]
  },
  {
   "cell_type": "code",
   "execution_count": 7,
   "metadata": {},
   "outputs": [
    {
     "data": {
      "text/html": [
       "<div>\n",
       "<style>\n",
       "    .dataframe thead tr:only-child th {\n",
       "        text-align: right;\n",
       "    }\n",
       "\n",
       "    .dataframe thead th {\n",
       "        text-align: left;\n",
       "    }\n",
       "\n",
       "    .dataframe tbody tr th {\n",
       "        vertical-align: top;\n",
       "    }\n",
       "</style>\n",
       "<table border=\"1\" class=\"dataframe\">\n",
       "  <thead>\n",
       "    <tr style=\"text-align: right;\">\n",
       "      <th></th>\n",
       "      <th>Temperature</th>\n",
       "      <th>WI</th>\n",
       "      <th>GHGI</th>\n",
       "      <th>Age</th>\n",
       "      <th>Uses_College</th>\n",
       "      <th>Uses_Sports</th>\n",
       "      <th>Uses_ResidentHousing</th>\n",
       "      <th>Uses_Laboratory</th>\n",
       "      <th>Uses_Office</th>\n",
       "      <th>Uses_Hotel</th>\n",
       "      <th>Uses_Distribution</th>\n",
       "      <th>Uses_Food</th>\n",
       "      <th>Uses_Worship</th>\n",
       "      <th>Uses_Medical</th>\n",
       "      <th>Const</th>\n",
       "    </tr>\n",
       "  </thead>\n",
       "  <tbody>\n",
       "    <tr>\n",
       "      <th>0</th>\n",
       "      <td>0.011807</td>\n",
       "      <td>0.017683</td>\n",
       "      <td>3.698267</td>\n",
       "      <td>0.017153</td>\n",
       "      <td>15.34778</td>\n",
       "      <td>15.206682</td>\n",
       "      <td>13.863621</td>\n",
       "      <td>18.748857</td>\n",
       "      <td>15.57692</td>\n",
       "      <td>15.348449</td>\n",
       "      <td>14.591956</td>\n",
       "      <td>15.883499</td>\n",
       "      <td>13.565311</td>\n",
       "      <td>17.092992</td>\n",
       "      <td>-48.087431</td>\n",
       "    </tr>\n",
       "  </tbody>\n",
       "</table>\n",
       "</div>"
      ],
      "text/plain": [
       "   Temperature        WI      GHGI       Age  Uses_College  Uses_Sports  \\\n",
       "0     0.011807  0.017683  3.698267  0.017153      15.34778    15.206682   \n",
       "\n",
       "   Uses_ResidentHousing  Uses_Laboratory  Uses_Office  Uses_Hotel  \\\n",
       "0             13.863621        18.748857     15.57692   15.348449   \n",
       "\n",
       "   Uses_Distribution  Uses_Food  Uses_Worship  Uses_Medical      Const  \n",
       "0          14.591956  15.883499     13.565311     17.092992 -48.087431  "
      ]
     },
     "execution_count": 7,
     "metadata": {},
     "output_type": "execute_result"
    }
   ],
   "source": [
    "df_coef_E"
   ]
  },
  {
   "cell_type": "code",
   "execution_count": 8,
   "metadata": {},
   "outputs": [
    {
     "data": {
      "text/html": [
       "<div>\n",
       "<style>\n",
       "    .dataframe thead tr:only-child th {\n",
       "        text-align: right;\n",
       "    }\n",
       "\n",
       "    .dataframe thead th {\n",
       "        text-align: left;\n",
       "    }\n",
       "\n",
       "    .dataframe tbody tr th {\n",
       "        vertical-align: top;\n",
       "    }\n",
       "</style>\n",
       "<table border=\"1\" class=\"dataframe\">\n",
       "  <thead>\n",
       "    <tr style=\"text-align: right;\">\n",
       "      <th></th>\n",
       "      <th>Temperature</th>\n",
       "      <th>WI</th>\n",
       "      <th>GHGI</th>\n",
       "      <th>Age</th>\n",
       "      <th>Uses_College</th>\n",
       "      <th>Uses_Sports</th>\n",
       "      <th>Uses_ResidentHousing</th>\n",
       "      <th>Uses_Laboratory</th>\n",
       "      <th>Uses_Office</th>\n",
       "      <th>Uses_Hotel</th>\n",
       "      <th>Uses_Distribution</th>\n",
       "      <th>Uses_Food</th>\n",
       "      <th>Uses_Worship</th>\n",
       "      <th>Uses_Medical</th>\n",
       "      <th>Const</th>\n",
       "    </tr>\n",
       "  </thead>\n",
       "  <tbody>\n",
       "    <tr>\n",
       "      <th>0</th>\n",
       "      <td>-0.191605</td>\n",
       "      <td>-0.397981</td>\n",
       "      <td>12.28945</td>\n",
       "      <td>-0.026153</td>\n",
       "      <td>-0.257984</td>\n",
       "      <td>-0.354377</td>\n",
       "      <td>2.878647</td>\n",
       "      <td>-5.104863</td>\n",
       "      <td>0.096893</td>\n",
       "      <td>0.544598</td>\n",
       "      <td>0.61191</td>\n",
       "      <td>-1.178707</td>\n",
       "      <td>2.019745</td>\n",
       "      <td>-1.388907</td>\n",
       "      <td>59.838211</td>\n",
       "    </tr>\n",
       "  </tbody>\n",
       "</table>\n",
       "</div>"
      ],
      "text/plain": [
       "   Temperature        WI      GHGI       Age  Uses_College  Uses_Sports  \\\n",
       "0    -0.191605 -0.397981  12.28945 -0.026153     -0.257984    -0.354377   \n",
       "\n",
       "   Uses_ResidentHousing  Uses_Laboratory  Uses_Office  Uses_Hotel  \\\n",
       "0              2.878647        -5.104863     0.096893    0.544598   \n",
       "\n",
       "   Uses_Distribution  Uses_Food  Uses_Worship  Uses_Medical      Const  \n",
       "0            0.61191  -1.178707      2.019745     -1.388907  59.838211  "
      ]
     },
     "execution_count": 8,
     "metadata": {},
     "output_type": "execute_result"
    }
   ],
   "source": [
    "df_coef_G"
   ]
  },
  {
   "cell_type": "code",
   "execution_count": 9,
   "metadata": {},
   "outputs": [
    {
     "name": "stdout",
     "output_type": "stream",
     "text": [
      "---------------Mean Suared Error of Electric---------------\n",
      "2.16421489216\n",
      "---------------Mean Suared Error of Gas---------------\n",
      "18.8299872024\n"
     ]
    }
   ],
   "source": [
    "# Mean Squared Error\n",
    "\n",
    "#predicted comments according to wights\n",
    "def to_pred(f_coef,f_data):\n",
    "    # feature dot product with weights\n",
    "    # feature f_data from testing group\n",
    "    # weight f_coef from training\n",
    "    # predicted comments \n",
    "    constant = f_coef.loc[0,'Const']\n",
    "    f_coef.drop(['Const'], axis = 1, inplace= True)\n",
    "    f_coef = f_coef.T\n",
    "    pred = np.dot(f_data,f_coef)\n",
    "    pred = pred + constant\n",
    "    return pred\n",
    "\n",
    "\n",
    "#prediction of testing group \n",
    "y_pred_E = to_pred(df_coef_E,X_E_test)\n",
    "y_pred_G = to_pred(df_coef_G,X_G_test)\n",
    "\n",
    "\n",
    "#true value of testing group\n",
    "y_true_E = Y_E_test\n",
    "y_true_G = Y_G_test\n",
    "\n",
    "#mean squared error\n",
    "print('---------------Mean Suared Error of Electric---------------')\n",
    "print(mean_squared_error(y_true_E, y_pred_E))\n",
    "print('---------------Mean Suared Error of Gas---------------')\n",
    "print(mean_squared_error(y_true_G, y_pred_G))"
   ]
  },
  {
   "cell_type": "markdown",
   "metadata": {},
   "source": [
    "## Y (E/G) value modification to discrete value"
   ]
  },
  {
   "cell_type": "code",
   "execution_count": null,
   "metadata": {},
   "outputs": [],
   "source": [
    "print(len(df_BU_analysis_E))\n",
    "print(len(df_BU_analysis_G))\n",
    "\n",
    "max_E = df_BU_analysis_E['Y_Electric'].max()\n",
    "min_E = df_BU_analysis_E['Y_Electric'].min()\n",
    "\n",
    "max_G = df_BU_analysis_G['Y_Gas'].max()\n",
    "min_G = df_BU_analysis_G['Y_Gas'].min()\n",
    "\n",
    "print(\"Electricity: (min: {} - max: {})\".format(min_E, max_E))\n",
    "print(\"Gas: (min: {} - max: {})\".format(min_G, max_G))\n",
    "print('------------------------------------------------------')\n",
    "\n",
    "# Split them into 5 groups\n",
    "# 1. very low consumption, \n",
    "# 2. low consumption, \n",
    "# 3. medium consumption, \n",
    "# 4. large consumption, \n",
    "# 5. very large consumption\n",
    "\n",
    "def consumptionLevel(value, minValue, maxValue, level = 5):\n",
    "    accretion = (maxValue - minValue)/level\n",
    "    \n",
    "    for i in range(level):\n",
    "        minV = minValue + i*accretion\n",
    "        maxV = minValue + (i+1)*accretion\n",
    "        \n",
    "        if (minV <= value) and (value <= maxV):\n",
    "            return (i+1)  \n",
    "        \n",
    "    return level"
   ]
  },
  {
   "cell_type": "code",
   "execution_count": null,
   "metadata": {},
   "outputs": [],
   "source": [
    "df_BU_analysis_E['Y_E_Level'] = 0\n",
    "df_BU_analysis_G['Y_G_Level'] = 0\n",
    "\n",
    "for i in range(len(df_BU_analysis_E)):\n",
    "    column_index = df_BU_analysis_E.columns.get_loc(\"Y_Electric\")\n",
    "    value = df_BU_analysis_E.iloc[i, column_index]\n",
    "    level = consumptionLevel(value, min_E, max_E)\n",
    "    \n",
    "    column_index_level = df_BU_analysis_E.columns.get_loc(\"Y_E_Level\")\n",
    "    df_BU_analysis_E.iloc[i, column_index_level] = level\n",
    "    \n",
    "    \n",
    "    \n",
    "for i in range(len(df_BU_analysis_G)):\n",
    "    \n",
    "    column_index = df_BU_analysis_G.columns.get_loc(\"Y_Gas\")\n",
    "    value = df_BU_analysis_G.iloc[i, column_index]\n",
    "    level = consumptionLevel(value, min_G, max_G)\n",
    "    \n",
    "    column_index_level = df_BU_analysis_G.columns.get_loc(\"Y_G_Level\")\n",
    "    df_BU_analysis_G.iloc[i, column_index_level] = level\n",
    "\n",
    "df_BU_analysis_E.to_csv('df_201x_BU_analysis_E_Level.csv')\n",
    "df_BU_analysis_G.to_csv('df_201x_BU_analysis_G_Level.csv')"
   ]
  },
  {
   "cell_type": "markdown",
   "metadata": {},
   "source": [
    "## Multi-class Logistic Regression"
   ]
  },
  {
   "cell_type": "code",
   "execution_count": null,
   "metadata": {},
   "outputs": [],
   "source": [
    "# Run Logistic Regression\n",
    "# df_BU_analysis_E\n",
    "# df_BU_analysis_G\n",
    "\n"
   ]
  },
  {
   "cell_type": "markdown",
   "metadata": {},
   "source": [
    "## Multi-class SVM"
   ]
  },
  {
   "cell_type": "code",
   "execution_count": null,
   "metadata": {
    "collapsed": true
   },
   "outputs": [],
   "source": [
    "# Run SVM\n"
   ]
  },
  {
   "cell_type": "markdown",
   "metadata": {},
   "source": [
    "## Neural Networks"
   ]
  },
  {
   "cell_type": "code",
   "execution_count": null,
   "metadata": {
    "collapsed": true
   },
   "outputs": [],
   "source": [
    "# Run NN\n"
   ]
  }
 ],
 "metadata": {
  "kernelspec": {
   "display_name": "Python 3",
   "language": "python",
   "name": "python3"
  },
  "language_info": {
   "codemirror_mode": {
    "name": "ipython",
    "version": 3
   },
   "file_extension": ".py",
   "mimetype": "text/x-python",
   "name": "python",
   "nbconvert_exporter": "python",
   "pygments_lexer": "ipython3",
   "version": "3.6.3"
  }
 },
 "nbformat": 4,
 "nbformat_minor": 2
}
