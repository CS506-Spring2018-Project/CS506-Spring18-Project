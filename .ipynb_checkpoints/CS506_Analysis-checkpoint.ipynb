{
 "cells": [
  {
   "cell_type": "markdown",
   "metadata": {},
   "source": [
    "# Data Analysis for CS506 Project\n",
    "\n",
    "In CS506_DataProcessing_Graph.ipynb file, datasets are processed and cleaned finally store in 2 csv files. Two files are: **df_201x_BU_analysis_E_Final.csv** and **df_201x_BU_analysis_G_Final.csv**. In this analysis, we directly use those two files to do the analysis"
   ]
  },
  {
   "cell_type": "code",
   "execution_count": 1,
   "metadata": {
    "collapsed": true
   },
   "outputs": [],
   "source": [
    "# Import files\n",
    "import csv\n",
    "import pandas as pd\n",
    "import numpy as np\n",
    "from sklearn.preprocessing import normalize\n",
    "from sklearn.metrics import mean_squared_error\n",
    "from sklearn.linear_model import LinearRegression\n"
   ]
  },
  {
   "cell_type": "code",
   "execution_count": 2,
   "metadata": {
    "collapsed": true
   },
   "outputs": [],
   "source": [
    "# Read data\n",
    "df_BU_analysis_E = pd.read_csv('df_201x_BU_analysis_E_Final.csv', index_col=0)\n",
    "df_BU_analysis_G = pd.read_csv('df_201x_BU_analysis_G_Final.csv', index_col=0)"
   ]
  },
  {
   "cell_type": "code",
   "execution_count": 3,
   "metadata": {
    "collapsed": true
   },
   "outputs": [],
   "source": [
    "# Browsing data for Electricity\n",
    "# df_BU_analysis_E.head(10)"
   ]
  },
  {
   "cell_type": "code",
   "execution_count": 4,
   "metadata": {
    "collapsed": true
   },
   "outputs": [],
   "source": [
    "# Browsing data for Gas\n",
    "# df_BU_analysis_G.head(10)"
   ]
  },
  {
   "cell_type": "markdown",
   "metadata": {},
   "source": [
    "## Linear Regression"
   ]
  },
  {
   "cell_type": "code",
   "execution_count": 5,
   "metadata": {},
   "outputs": [
    {
     "name": "stdout",
     "output_type": "stream",
     "text": [
      "Index(['Temperature', 'WI', 'GHGI', 'Age', 'Uses_College', 'Uses_Sports',\n",
      "       'Uses_ResidentHousing', 'Uses_Laboratory', 'Uses_Office', 'Uses_Hotel',\n",
      "       'Uses_Distribution', 'Uses_Food', 'Uses_Worship', 'Uses_Medical',\n",
      "       'Y_Gas', 'Y_G_Level'],\n",
      "      dtype='object')\n",
      "Index(['Temperature', 'WI', 'GHGI', 'Age', 'Uses_College', 'Uses_Sports',\n",
      "       'Uses_ResidentHousing', 'Uses_Laboratory', 'Uses_Office', 'Uses_Hotel',\n",
      "       'Uses_Distribution', 'Uses_Food', 'Uses_Worship', 'Uses_Medical',\n",
      "       'Y_Electric', 'Y_E_Level'],\n",
      "      dtype='object')\n",
      "BU_data shape\n",
      "(1512, 16)\n",
      "(1404, 16)\n",
      "(1512, 16)\n",
      "(1404, 16)\n",
      "\n",
      "Training Data Shape:\n",
      "(1360, 14)\n",
      "(1263, 14)\n",
      "\n",
      "(1360,)\n",
      "(1263,)\n",
      "\n",
      "Testing Data Shape:\n",
      "(152, 14)\n",
      "(141, 14)\n",
      "\n",
      "(152,)\n",
      "(141,)\n"
     ]
    }
   ],
   "source": [
    "# Linear Regression:\n",
    "\n",
    "# Using Sklearn linear model to do the prediction\n",
    "linearModel_E = LinearRegression(fit_intercept=True, normalize = True)\n",
    "linearModel_G = LinearRegression(fit_intercept=True, normalize = True)\n",
    "\n",
    "# Data for E and G\n",
    "print(df_BU_analysis_G.columns)\n",
    "print(df_BU_analysis_E.columns)\n",
    "\n",
    "\n",
    "\n",
    "# Generating Training and Testing sets for 2 regressions (Electricity, Gas)\n",
    "df_BU_analysis_E_shuffle = df_BU_analysis_E.sample(frac = 1)\n",
    "df_BU_analysis_G_shuffle = df_BU_analysis_G.sample(frac = 1)\n",
    "\n",
    "num_e = int(len(df_BU_analysis_E_shuffle)*0.9)\n",
    "num_g = int(len(df_BU_analysis_G_shuffle)*0.9)\n",
    "\n",
    "df_BU_training_E = df_BU_analysis_E_shuffle.iloc[:num_e, :]\n",
    "df_BU_testing_E = df_BU_analysis_E_shuffle.iloc[num_e:, :]\n",
    "\n",
    "df_BU_training_G = df_BU_analysis_G_shuffle.iloc[:num_g, :]\n",
    "df_BU_testing_G = df_BU_analysis_G_shuffle.iloc[num_g:, :]\n",
    "\n",
    "\n",
    "X_column = ['Temperature', 'WI', 'GHGI', 'Age', 'Uses_College', 'Uses_Sports', 'Uses_ResidentHousing', 'Uses_Laboratory', 'Uses_Office', 'Uses_Hotel', 'Uses_Distribution', 'Uses_Food', 'Uses_Worship', 'Uses_Medical']\n",
    "# X_column = ['Temperature', 'WI', 'Age', 'Uses_College', 'Uses_Sports', 'Uses_ResidentHousing', 'Uses_Laboratory', 'Uses_Office', 'Uses_Hotel', 'Uses_Distribution', 'Uses_Food', 'Uses_Worship', 'Uses_Medical']\n",
    "\n",
    "\n",
    "# Traning Data\n",
    "X_E = df_BU_training_E[X_column]\n",
    "X_G = df_BU_training_G[X_column]\n",
    "\n",
    "Y_E = df_BU_training_E['Y_Electric']\n",
    "Y_G = df_BU_training_G['Y_Gas']\n",
    "\n",
    "\n",
    "# Testing Data\n",
    "X_E_test = df_BU_testing_E[X_column]\n",
    "X_G_test = df_BU_testing_G[X_column]\n",
    "\n",
    "Y_E_test = df_BU_testing_E['Y_Electric']\n",
    "Y_G_test = df_BU_testing_G['Y_Gas']\n",
    "\n",
    "print('BU_data shape')\n",
    "print(df_BU_analysis_E.shape)\n",
    "print(df_BU_analysis_G.shape)\n",
    "print(df_BU_analysis_E_shuffle.shape)\n",
    "print(df_BU_analysis_G_shuffle.shape)\n",
    "\n",
    "print()\n",
    "print('Training Data Shape:')\n",
    "print(X_E.shape)\n",
    "print(X_G.shape)\n",
    "print()\n",
    "print(Y_E.shape)\n",
    "print(Y_G.shape)\n",
    "\n",
    "\n",
    "print()\n",
    "print('Testing Data Shape:')\n",
    "print(X_E_test.shape)\n",
    "print(X_G_test.shape)\n",
    "print()\n",
    "print(Y_E_test.shape)\n",
    "print(Y_G_test.shape)"
   ]
  },
  {
   "cell_type": "code",
   "execution_count": 6,
   "metadata": {},
   "outputs": [
    {
     "name": "stdout",
     "output_type": "stream",
     "text": [
      "E: Parameters\n",
      "(14,)\n",
      "-51.4370106669\n",
      "\n",
      "G: Parameters\n",
      "(14,)\n",
      "58.4568017882\n"
     ]
    }
   ],
   "source": [
    "# Run the regression:\n",
    "\n",
    "X_column = ['Temperature', 'WI', 'GHGI', 'Age', 'Uses_College', 'Uses_Sports', 'Uses_ResidentHousing', 'Uses_Laboratory', 'Uses_Office', 'Uses_Hotel', 'Uses_Distribution', 'Uses_Food', 'Uses_Worship', 'Uses_Medical']\n",
    "# X_column = ['Temperature', 'WI', 'Age', 'Uses_College', 'Uses_Sports', 'Uses_ResidentHousing', 'Uses_Laboratory', 'Uses_Office', 'Uses_Hotel', 'Uses_Distribution', 'Uses_Food', 'Uses_Worship', 'Uses_Medical']\n",
    "\n",
    "\n",
    "linearModel_E.fit(X_E, Y_E)\n",
    "linearModel_G.fit(X_G, Y_G)\n",
    "\n",
    "np.set_printoptions(suppress=True)\n",
    "\n",
    "print('E: Parameters')\n",
    "print(linearModel_E.coef_.shape)\n",
    "print(linearModel_E.intercept_)\n",
    "\n",
    "print()\n",
    "print('G: Parameters')\n",
    "print(linearModel_G.coef_.shape)\n",
    "print(linearModel_G.intercept_)\n",
    "\n",
    "\n",
    "coef_E = linearModel_E.coef_\n",
    "coef_G = linearModel_G.coef_\n",
    "\n",
    "coef_E = coef_E.reshape(coef_E.shape[0], 1)\n",
    "coef_G = coef_G.reshape(coef_G.shape[0], 1)\n",
    "\n",
    "df_coef_E = pd.DataFrame(coef_E.T, columns = X_column)\n",
    "df_coef_G = pd.DataFrame(coef_G.T, columns = X_column)\n",
    "\n",
    "df_coef_E['Const'] = linearModel_E.intercept_\n",
    "df_coef_G['Const'] = linearModel_G.intercept_\n",
    "# print(df_coef_E)\n",
    "# print()\n",
    "# print(df_coef_G)"
   ]
  },
  {
   "cell_type": "code",
   "execution_count": 7,
   "metadata": {},
   "outputs": [
    {
     "data": {
      "text/html": [
       "<div>\n",
       "<style>\n",
       "    .dataframe thead tr:only-child th {\n",
       "        text-align: right;\n",
       "    }\n",
       "\n",
       "    .dataframe thead th {\n",
       "        text-align: left;\n",
       "    }\n",
       "\n",
       "    .dataframe tbody tr th {\n",
       "        vertical-align: top;\n",
       "    }\n",
       "</style>\n",
       "<table border=\"1\" class=\"dataframe\">\n",
       "  <thead>\n",
       "    <tr style=\"text-align: right;\">\n",
       "      <th></th>\n",
       "      <th>Temperature</th>\n",
       "      <th>WI</th>\n",
       "      <th>GHGI</th>\n",
       "      <th>Age</th>\n",
       "      <th>Uses_College</th>\n",
       "      <th>Uses_Sports</th>\n",
       "      <th>Uses_ResidentHousing</th>\n",
       "      <th>Uses_Laboratory</th>\n",
       "      <th>Uses_Office</th>\n",
       "      <th>Uses_Hotel</th>\n",
       "      <th>Uses_Distribution</th>\n",
       "      <th>Uses_Food</th>\n",
       "      <th>Uses_Worship</th>\n",
       "      <th>Uses_Medical</th>\n",
       "      <th>Const</th>\n",
       "    </tr>\n",
       "  </thead>\n",
       "  <tbody>\n",
       "    <tr>\n",
       "      <th>0</th>\n",
       "      <td>0.011243</td>\n",
       "      <td>0.020844</td>\n",
       "      <td>3.6494</td>\n",
       "      <td>0.017197</td>\n",
       "      <td>18.627004</td>\n",
       "      <td>18.498402</td>\n",
       "      <td>17.14706</td>\n",
       "      <td>22.172932</td>\n",
       "      <td>18.902384</td>\n",
       "      <td>18.731375</td>\n",
       "      <td>17.948533</td>\n",
       "      <td>19.016391</td>\n",
       "      <td>16.882478</td>\n",
       "      <td>20.405187</td>\n",
       "      <td>-51.437011</td>\n",
       "    </tr>\n",
       "  </tbody>\n",
       "</table>\n",
       "</div>"
      ],
      "text/plain": [
       "   Temperature        WI    GHGI       Age  Uses_College  Uses_Sports  \\\n",
       "0     0.011243  0.020844  3.6494  0.017197     18.627004    18.498402   \n",
       "\n",
       "   Uses_ResidentHousing  Uses_Laboratory  Uses_Office  Uses_Hotel  \\\n",
       "0              17.14706        22.172932    18.902384   18.731375   \n",
       "\n",
       "   Uses_Distribution  Uses_Food  Uses_Worship  Uses_Medical      Const  \n",
       "0          17.948533  19.016391     16.882478     20.405187 -51.437011  "
      ]
     },
     "execution_count": 7,
     "metadata": {},
     "output_type": "execute_result"
    }
   ],
   "source": [
    "df_coef_E"
   ]
  },
  {
   "cell_type": "code",
   "execution_count": 8,
   "metadata": {},
   "outputs": [
    {
     "data": {
      "text/html": [
       "<div>\n",
       "<style>\n",
       "    .dataframe thead tr:only-child th {\n",
       "        text-align: right;\n",
       "    }\n",
       "\n",
       "    .dataframe thead th {\n",
       "        text-align: left;\n",
       "    }\n",
       "\n",
       "    .dataframe tbody tr th {\n",
       "        vertical-align: top;\n",
       "    }\n",
       "</style>\n",
       "<table border=\"1\" class=\"dataframe\">\n",
       "  <thead>\n",
       "    <tr style=\"text-align: right;\">\n",
       "      <th></th>\n",
       "      <th>Temperature</th>\n",
       "      <th>WI</th>\n",
       "      <th>GHGI</th>\n",
       "      <th>Age</th>\n",
       "      <th>Uses_College</th>\n",
       "      <th>Uses_Sports</th>\n",
       "      <th>Uses_ResidentHousing</th>\n",
       "      <th>Uses_Laboratory</th>\n",
       "      <th>Uses_Office</th>\n",
       "      <th>Uses_Hotel</th>\n",
       "      <th>Uses_Distribution</th>\n",
       "      <th>Uses_Food</th>\n",
       "      <th>Uses_Worship</th>\n",
       "      <th>Uses_Medical</th>\n",
       "      <th>Const</th>\n",
       "    </tr>\n",
       "  </thead>\n",
       "  <tbody>\n",
       "    <tr>\n",
       "      <th>0</th>\n",
       "      <td>-0.190079</td>\n",
       "      <td>-0.362113</td>\n",
       "      <td>12.419513</td>\n",
       "      <td>-0.025554</td>\n",
       "      <td>-0.313156</td>\n",
       "      <td>-0.3692</td>\n",
       "      <td>2.864053</td>\n",
       "      <td>-5.332409</td>\n",
       "      <td>0.354835</td>\n",
       "      <td>0.335194</td>\n",
       "      <td>0.714276</td>\n",
       "      <td>-1.095041</td>\n",
       "      <td>2.027591</td>\n",
       "      <td>-1.453457</td>\n",
       "      <td>58.456802</td>\n",
       "    </tr>\n",
       "  </tbody>\n",
       "</table>\n",
       "</div>"
      ],
      "text/plain": [
       "   Temperature        WI       GHGI       Age  Uses_College  Uses_Sports  \\\n",
       "0    -0.190079 -0.362113  12.419513 -0.025554     -0.313156      -0.3692   \n",
       "\n",
       "   Uses_ResidentHousing  Uses_Laboratory  Uses_Office  Uses_Hotel  \\\n",
       "0              2.864053        -5.332409     0.354835    0.335194   \n",
       "\n",
       "   Uses_Distribution  Uses_Food  Uses_Worship  Uses_Medical      Const  \n",
       "0           0.714276  -1.095041      2.027591     -1.453457  58.456802  "
      ]
     },
     "execution_count": 8,
     "metadata": {},
     "output_type": "execute_result"
    }
   ],
   "source": [
    "df_coef_G"
   ]
  },
  {
   "cell_type": "code",
   "execution_count": 9,
   "metadata": {},
   "outputs": [
    {
     "name": "stdout",
     "output_type": "stream",
     "text": [
      "---------------Mean Suared Error of Electric---------------\n",
      "2.63340116561\n",
      "---------------Mean Suared Error of Gas---------------\n",
      "8.0485218334\n"
     ]
    }
   ],
   "source": [
    "# Mean Squared Error\n",
    "\n",
    "#predicted comments according to wights\n",
    "def to_pred(f_coef,f_data):\n",
    "    # feature dot product with weights\n",
    "    # feature f_data from testing group\n",
    "    # weight f_coef from training\n",
    "    # predicted comments \n",
    "    constant = f_coef.loc[0,'Const']\n",
    "    f_coef.drop(['Const'], axis = 1, inplace= True)\n",
    "    f_coef = f_coef.T\n",
    "    pred = np.dot(f_data,f_coef)\n",
    "    pred = pred + constant\n",
    "    return pred\n",
    "\n",
    "\n",
    "#prediction of testing group \n",
    "y_pred_E = to_pred(df_coef_E,X_E_test)\n",
    "y_pred_G = to_pred(df_coef_G,X_G_test)\n",
    "\n",
    "\n",
    "#true value of testing group\n",
    "y_true_E = Y_E_test\n",
    "y_true_G = Y_G_test\n",
    "\n",
    "#mean squared error\n",
    "print('---------------Mean Suared Error of Electric---------------')\n",
    "print(mean_squared_error(y_true_E, y_pred_E))\n",
    "print('---------------Mean Suared Error of Gas---------------')\n",
    "print(mean_squared_error(y_true_G, y_pred_G))"
   ]
  },
  {
   "cell_type": "markdown",
   "metadata": {},
   "source": [
    "## Multi-class Logistic Regression"
   ]
  },
  {
   "cell_type": "code",
   "execution_count": null,
   "metadata": {},
   "outputs": [],
   "source": [
    "# Run Logistic Regression\n",
    "# df_BU_analysis_E\n",
    "# df_BU_analysis_G\n",
    "\n"
   ]
  },
  {
   "cell_type": "markdown",
   "metadata": {},
   "source": [
    "## Multi-class SVM"
   ]
  },
  {
   "cell_type": "code",
   "execution_count": null,
   "metadata": {
    "collapsed": true
   },
   "outputs": [],
   "source": [
    "# Run SVM\n"
   ]
  },
  {
   "cell_type": "markdown",
   "metadata": {},
   "source": [
    "## Neural Networks"
   ]
  },
  {
   "cell_type": "code",
   "execution_count": null,
   "metadata": {
    "collapsed": true
   },
   "outputs": [],
   "source": [
    "# Run NN\n"
   ]
  }
 ],
 "metadata": {
  "kernelspec": {
   "display_name": "Python 3",
   "language": "python",
   "name": "python3"
  },
  "language_info": {
   "codemirror_mode": {
    "name": "ipython",
    "version": 3
   },
   "file_extension": ".py",
   "mimetype": "text/x-python",
   "name": "python",
   "nbconvert_exporter": "python",
   "pygments_lexer": "ipython3",
   "version": "3.6.3"
  }
 },
 "nbformat": 4,
 "nbformat_minor": 2
}
