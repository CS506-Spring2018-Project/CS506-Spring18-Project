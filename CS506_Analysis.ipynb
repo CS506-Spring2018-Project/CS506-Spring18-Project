{
 "cells": [
  {
   "cell_type": "markdown",
   "metadata": {},
   "source": [
    "# Data Analysis for CS506 Project\n",
    "\n",
    "In CS506_DataProcessing_Graph.ipynb file, datasets are processed and cleaned finally store in 2 csv files. Two files are: **df_201x_BU_analysis_E_Final.csv** and **df_201x_BU_analysis_G_Final.csv**. In this analysis, we directly use those two files to do the analysis"
   ]
  },
  {
   "cell_type": "code",
   "execution_count": 1,
   "metadata": {},
   "outputs": [
    {
     "name": "stderr",
     "output_type": "stream",
     "text": [
      "/Users/chengyudeng/anaconda3/lib/python3.6/site-packages/statsmodels/compat/pandas.py:56: FutureWarning: The pandas.core.datetools module is deprecated and will be removed in a future version. Please use the pandas.tseries module instead.\n",
      "  from pandas.core import datetools\n"
     ]
    }
   ],
   "source": [
    "# Import files\n",
    "import csv\n",
    "import pandas as pd\n",
    "import numpy as np\n",
    "from sklearn.preprocessing import normalize\n",
    "from sklearn.metrics import mean_squared_error\n",
    "from sklearn.linear_model import LinearRegression\n",
    "from sklearn.model_selection import cross_val_score\n",
    "from sklearn.linear_model import LogisticRegression\n",
    "\n",
    "import statsmodels.api as sm\n",
    "from sklearn.metrics import mean_squared_error\n",
    "# import statsmodels.formula.api as smf"
   ]
  },
  {
   "cell_type": "code",
   "execution_count": 2,
   "metadata": {},
   "outputs": [
    {
     "name": "stdout",
     "output_type": "stream",
     "text": [
      "Index(['Temperature', 'WI', 'GHGI', 'Age', 'Uses_College', 'Uses_Sports',\n",
      "       'Uses_ResidentHousing', 'Uses_Laboratory', 'Uses_Office', 'Uses_Hotel',\n",
      "       'Uses_Distribution', 'Uses_Food', 'Uses_Worship', 'Uses_Medical',\n",
      "       'Y_Gas', 'Y_G_Level'],\n",
      "      dtype='object')\n",
      "Index(['Temperature', 'WI', 'GHGI', 'Age', 'Uses_College', 'Uses_Sports',\n",
      "       'Uses_ResidentHousing', 'Uses_Laboratory', 'Uses_Office', 'Uses_Hotel',\n",
      "       'Uses_Distribution', 'Uses_Food', 'Uses_Worship', 'Uses_Medical',\n",
      "       'Y_Electric', 'Y_E_Level'],\n",
      "      dtype='object')\n"
     ]
    }
   ],
   "source": [
    "# Read data\n",
    "df_BU_analysis_E = pd.read_csv('df_201x_BU_analysis_E_Final.csv', index_col=0)\n",
    "df_BU_analysis_G = pd.read_csv('df_201x_BU_analysis_G_Final.csv', index_col=0)\n",
    "\n",
    "# Data for E and G\n",
    "print(df_BU_analysis_G.columns)\n",
    "print(df_BU_analysis_E.columns)"
   ]
  },
  {
   "cell_type": "code",
   "execution_count": 3,
   "metadata": {
    "collapsed": true
   },
   "outputs": [],
   "source": [
    "# Browsing data for Electricity\n",
    "# df_BU_analysis_E.head(10)"
   ]
  },
  {
   "cell_type": "code",
   "execution_count": 4,
   "metadata": {
    "collapsed": true
   },
   "outputs": [],
   "source": [
    "# Browsing data for Gas\n",
    "# df_BU_analysis_G.head(10)"
   ]
  },
  {
   "cell_type": "code",
   "execution_count": 5,
   "metadata": {
    "collapsed": true
   },
   "outputs": [],
   "source": [
    "# Generating Training and Testing sets for 2 regressions (Electricity, Gas)\n",
    "df_BU_analysis_E_shuffle = df_BU_analysis_E.sample(frac = 1)\n",
    "df_BU_analysis_G_shuffle = df_BU_analysis_G.sample(frac = 1)\n",
    "\n",
    "num_e = int(len(df_BU_analysis_E_shuffle)*0.9)\n",
    "num_g = int(len(df_BU_analysis_G_shuffle)*0.9)\n",
    "\n",
    "df_BU_training_E = df_BU_analysis_E_shuffle.iloc[:num_e, :]\n",
    "df_BU_testing_E = df_BU_analysis_E_shuffle.iloc[num_e:, :]\n",
    "\n",
    "df_BU_training_G = df_BU_analysis_G_shuffle.iloc[:num_g, :]\n",
    "df_BU_testing_G = df_BU_analysis_G_shuffle.iloc[num_g:, :]\n",
    "\n",
    "X_column = ['Temperature', 'WI', 'GHGI', 'Age', 'Uses_College', 'Uses_Sports', 'Uses_ResidentHousing', 'Uses_Laboratory', 'Uses_Office', 'Uses_Hotel', 'Uses_Distribution', 'Uses_Food', 'Uses_Worship', 'Uses_Medical']\n",
    "# X_column = ['Temperature', 'WI', 'Age', 'Uses_College', 'Uses_Sports', 'Uses_ResidentHousing', 'Uses_Laboratory', 'Uses_Office', 'Uses_Hotel', 'Uses_Distribution', 'Uses_Food', 'Uses_Worship', 'Uses_Medical']\n"
   ]
  },
  {
   "cell_type": "code",
   "execution_count": 22,
   "metadata": {
    "collapsed": true
   },
   "outputs": [],
   "source": [
    "def printVariables():\n",
    "    for i in range(len(X_column)):\n",
    "        print('x{}: {}'.format(i+1, X_column[i]))\n",
    "        "
   ]
  },
  {
   "cell_type": "markdown",
   "metadata": {},
   "source": [
    "## Linear Regression"
   ]
  },
  {
   "cell_type": "code",
   "execution_count": 6,
   "metadata": {},
   "outputs": [
    {
     "name": "stdout",
     "output_type": "stream",
     "text": [
      "BU_data shape\n",
      "(1512, 16)\n",
      "(1404, 16)\n",
      "(1512, 16)\n",
      "(1404, 16)\n",
      "\n",
      "Training Data Shape:\n",
      "(1360, 14)\n",
      "(1263, 14)\n",
      "\n",
      "(1360,)\n",
      "(1263,)\n",
      "\n",
      "Testing Data Shape:\n",
      "(152, 14)\n",
      "(141, 14)\n",
      "\n",
      "(152,)\n",
      "(141,)\n"
     ]
    }
   ],
   "source": [
    "# Statesmodel Version of LR\n",
    "# Traning Data\n",
    "\n",
    "X_E = df_BU_training_E[X_column]\n",
    "Y_E = df_BU_training_E['Y_Electric']\n",
    "\n",
    "X_G = df_BU_training_G[X_column]\n",
    "Y_G = df_BU_training_G['Y_Gas']\n",
    "\n",
    "\n",
    "# Testing Data\n",
    "X_E_test = df_BU_testing_E[X_column]\n",
    "Y_E_test = df_BU_testing_E['Y_Electric']\n",
    "\n",
    "X_G_test = df_BU_testing_G[X_column]\n",
    "Y_G_test = df_BU_testing_G['Y_Gas']\n",
    "\n",
    "print('BU_data shape')\n",
    "print(df_BU_analysis_E.shape)\n",
    "print(df_BU_analysis_G.shape)\n",
    "print(df_BU_analysis_E_shuffle.shape)\n",
    "print(df_BU_analysis_G_shuffle.shape)\n",
    "print()\n",
    "print('Training Data Shape:')\n",
    "print(X_E.shape)\n",
    "print(X_G.shape)\n",
    "print()\n",
    "print(Y_E.shape)\n",
    "print(Y_G.shape)\n",
    "print()\n",
    "print('Testing Data Shape:')\n",
    "print(X_E_test.shape)\n",
    "print(X_G_test.shape)\n",
    "print()\n",
    "print(Y_E_test.shape)\n",
    "print(Y_G_test.shape)\n"
   ]
  },
  {
   "cell_type": "code",
   "execution_count": 8,
   "metadata": {},
   "outputs": [],
   "source": [
    "# Run the regression:\n",
    "version = 'statsModel'\n",
    "# version = 'sklearn'\n",
    "\n",
    "\n",
    "if version == 'statsModel':\n",
    "    # Electricity\n",
    "    x_e = X_E.values\n",
    "    y_e = Y_E.values\n",
    "    x_eTest = X_E_test.values\n",
    "    y_eTest = Y_E_test.values\n",
    "    # OLS regression\n",
    "    x_e = sm.add_constant(x_e)\n",
    "    model_e = sm.OLS(y_e,x_e)\n",
    "    results_e = model_e.fit()\n",
    "    \n",
    "    \n",
    "    # Gas\n",
    "    x_g = X_G.values\n",
    "    y_g = Y_G.values\n",
    "    x_gTest = X_G_test.values\n",
    "    y_gTest = Y_G_test.values\n",
    "    # OLS regression \n",
    "    x_g = sm.add_constant(x_g)\n",
    "    model_g = sm.OLS(y_g,x_g)\n",
    "    results_g = model_g.fit()\n",
    "    \n",
    "else:\n",
    "    \n",
    "    # Using Sklearn linear model to do the prediction\n",
    "    linearModel_E = LinearRegression(fit_intercept=True, normalize = True)\n",
    "    linearModel_G = LinearRegression(fit_intercept=True, normalize = True)\n",
    "\n",
    "\n",
    "    linearModel_E.fit(X_E, Y_E)\n",
    "    linearModel_G.fit(X_G, Y_G)\n",
    "\n",
    "    # linear regression accuracy through cross validation\n",
    "    score_E = cross_val_score(linearModel_E, X_E, Y_E, cv=3)\n",
    "    score_linear_mean_E = score_E.mean()\n",
    "    score_G = cross_val_score(linearModel_G, X_G, Y_G, cv=3)\n",
    "    score_linear_mean_G = score_G.mean()\n",
    "\n",
    "\n",
    "\n",
    "    np.set_printoptions(suppress=True)\n",
    "\n",
    "    print('E: Parameters')\n",
    "    print(linearModel_E.coef_.shape)\n",
    "    print(linearModel_E.intercept_)\n",
    "\n",
    "    print()\n",
    "    print('G: Parameters')\n",
    "    print(linearModel_G.coef_.shape)\n",
    "    print(linearModel_G.intercept_)\n",
    "\n",
    "\n",
    "    coef_E = linearModel_E.coef_\n",
    "    coef_G = linearModel_G.coef_\n",
    "\n",
    "    coef_E = coef_E.reshape(coef_E.shape[0], 1)\n",
    "    coef_G = coef_G.reshape(coef_G.shape[0], 1)\n",
    "\n",
    "    df_coef_E = pd.DataFrame(coef_E.T, columns = X_column)\n",
    "    df_coef_G = pd.DataFrame(coef_G.T, columns = X_column)\n",
    "\n",
    "    df_coef_E['Const'] = linearModel_E.intercept_\n",
    "    df_coef_G['Const'] = linearModel_G.intercept_\n"
   ]
  },
  {
   "cell_type": "code",
   "execution_count": 23,
   "metadata": {},
   "outputs": [
    {
     "name": "stdout",
     "output_type": "stream",
     "text": [
      "x1: Temperature\n",
      "x2: WI\n",
      "x3: GHGI\n",
      "x4: Age\n",
      "x5: Uses_College\n",
      "x6: Uses_Sports\n",
      "x7: Uses_ResidentHousing\n",
      "x8: Uses_Laboratory\n",
      "x9: Uses_Office\n",
      "x10: Uses_Hotel\n",
      "x11: Uses_Distribution\n",
      "x12: Uses_Food\n",
      "x13: Uses_Worship\n",
      "x14: Uses_Medical\n",
      "\n",
      "                            OLS Regression Results                            \n",
      "==============================================================================\n",
      "Dep. Variable:                      y   R-squared:                       0.796\n",
      "Model:                            OLS   Adj. R-squared:                  0.794\n",
      "Method:                 Least Squares   F-statistic:                     375.6\n",
      "Date:                Tue, 01 May 2018   Prob (F-statistic):               0.00\n",
      "Time:                        10:52:16   Log-Likelihood:                -2592.4\n",
      "No. Observations:                1360   AIC:                             5215.\n",
      "Df Residuals:                    1345   BIC:                             5293.\n",
      "Df Model:                          14                                         \n",
      "Covariance Type:            nonrobust                                         \n",
      "==============================================================================\n",
      "                 coef    std err          t      P>|t|      [0.025      0.975]\n",
      "------------------------------------------------------------------------------\n",
      "const        -51.1461      8.054     -6.350      0.000     -66.946     -35.346\n",
      "x1             0.0116      0.003      4.232      0.000       0.006       0.017\n",
      "x2             0.0222      0.007      3.043      0.002       0.008       0.036\n",
      "x3             3.7031      0.124     29.872      0.000       3.460       3.946\n",
      "x4             0.0165      0.001     12.230      0.000       0.014       0.019\n",
      "x5            19.7499      7.561      2.612      0.009       4.917      34.583\n",
      "x6            19.6147      7.549      2.598      0.009       4.806      34.423\n",
      "x7            18.2774      7.537      2.425      0.015       3.491      33.064\n",
      "x8            23.1846      7.557      3.068      0.002       8.360      38.009\n",
      "x9            19.9213      7.562      2.635      0.009       5.088      34.755\n",
      "x10           19.7084      7.539      2.614      0.009       4.919      34.498\n",
      "x11           19.0134      7.572      2.511      0.012       4.159      33.868\n",
      "x12           20.4079      7.551      2.703      0.007       5.594      35.222\n",
      "x13           18.0460      7.563      2.386      0.017       3.209      32.883\n",
      "x14           21.5300      7.561      2.847      0.004       6.697      36.363\n",
      "==============================================================================\n",
      "Omnibus:                      521.915   Durbin-Watson:                   1.876\n",
      "Prob(Omnibus):                  0.000   Jarque-Bera (JB):             4328.276\n",
      "Skew:                           1.555   Prob(JB):                         0.00\n",
      "Kurtosis:                      11.167   Cond. No.                     1.11e+06\n",
      "==============================================================================\n",
      "\n",
      "Warnings:\n",
      "[1] Standard Errors assume that the covariance matrix of the errors is correctly specified.\n",
      "[2] The condition number is large, 1.11e+06. This might indicate that there are\n",
      "strong multicollinearity or other numerical problems.\n"
     ]
    }
   ],
   "source": [
    "if version == 'sklearn':\n",
    "    df_coef_E\n",
    "else:\n",
    "    printVariables()\n",
    "    print()\n",
    "    print(results_e.summary())"
   ]
  },
  {
   "cell_type": "code",
   "execution_count": 24,
   "metadata": {},
   "outputs": [
    {
     "name": "stdout",
     "output_type": "stream",
     "text": [
      "x1: Temperature\n",
      "x2: WI\n",
      "x3: GHGI\n",
      "x4: Age\n",
      "x5: Uses_College\n",
      "x6: Uses_Sports\n",
      "x7: Uses_ResidentHousing\n",
      "x8: Uses_Laboratory\n",
      "x9: Uses_Office\n",
      "x10: Uses_Hotel\n",
      "x11: Uses_Distribution\n",
      "x12: Uses_Food\n",
      "x13: Uses_Worship\n",
      "x14: Uses_Medical\n",
      "\n",
      "                            OLS Regression Results                            \n",
      "==============================================================================\n",
      "Dep. Variable:                      y   R-squared:                       0.693\n",
      "Model:                            OLS   Adj. R-squared:                  0.690\n",
      "Method:                 Least Squares   F-statistic:                     217.3\n",
      "Date:                Tue, 01 May 2018   Prob (F-statistic):          2.56e-309\n",
      "Time:                        10:52:22   Log-Likelihood:                -3492.8\n",
      "No. Observations:                1263   AIC:                             7014.\n",
      "Df Residuals:                    1249   BIC:                             7086.\n",
      "Df Model:                          13                                         \n",
      "Covariance Type:            nonrobust                                         \n",
      "==============================================================================\n",
      "                 coef    std err          t      P>|t|      [0.025      0.975]\n",
      "------------------------------------------------------------------------------\n",
      "const         54.6186      6.088      8.972      0.000      42.676      66.562\n",
      "x1            -0.1907      0.007    -28.271      0.000      -0.204      -0.177\n",
      "x2            -0.3469      0.074     -4.675      0.000      -0.492      -0.201\n",
      "x3            12.2363      0.322     38.044      0.000      11.605      12.867\n",
      "x4            -0.0264      0.003     -7.752      0.000      -0.033      -0.020\n",
      "x5             5.4295      0.590      9.196      0.000       4.271       6.588\n",
      "x6             5.2411      0.795      6.589      0.000       3.680       6.802\n",
      "x7             8.5513      0.668     12.802      0.000       7.241       9.862\n",
      "x8             0.4042      0.661      0.611      0.541      -0.893       1.702\n",
      "x9             5.9664      0.609      9.804      0.000       4.773       7.160\n",
      "x10            6.1105      1.012      6.037      0.000       4.125       8.096\n",
      "x11            6.3587      0.951      6.688      0.000       4.493       8.224\n",
      "x12            4.6490      0.993      4.681      0.000       2.701       6.597\n",
      "x13            7.5461      1.008      7.488      0.000       5.569       9.523\n",
      "x14            4.3619      0.856      5.096      0.000       2.683       6.041\n",
      "==============================================================================\n",
      "Omnibus:                      688.325   Durbin-Watson:                   2.049\n",
      "Prob(Omnibus):                  0.000   Jarque-Bera (JB):            10740.071\n",
      "Skew:                           2.169   Prob(JB):                         0.00\n",
      "Kurtosis:                      16.611   Cond. No.                     9.00e+18\n",
      "==============================================================================\n",
      "\n",
      "Warnings:\n",
      "[1] Standard Errors assume that the covariance matrix of the errors is correctly specified.\n",
      "[2] The smallest eigenvalue is 5.98e-29. This might indicate that there are\n",
      "strong multicollinearity problems or that the design matrix is singular.\n"
     ]
    }
   ],
   "source": [
    "if version == 'sklearn':\n",
    "    df_coef_G\n",
    "else:\n",
    "    printVariables()\n",
    "    print()\n",
    "    print(results_g.summary())"
   ]
  },
  {
   "cell_type": "code",
   "execution_count": 25,
   "metadata": {},
   "outputs": [
    {
     "name": "stdout",
     "output_type": "stream",
     "text": [
      "Electricity:\n",
      "Constant:\n",
      "-51.1460508598\n",
      "\n",
      "Parameters:\n",
      "[[  0.01155779]\n",
      " [  0.02217105]\n",
      " [  3.70307866]\n",
      " [  0.01645198]\n",
      " [ 19.74993158]\n",
      " [ 19.6146895 ]\n",
      " [ 18.2773983 ]\n",
      " [ 23.18460031]\n",
      " [ 19.92126839]\n",
      " [ 19.70840299]\n",
      " [ 19.01335055]\n",
      " [ 20.40787621]\n",
      " [ 18.04600123]\n",
      " [ 21.52999645]]\n",
      "\n",
      "MSE:\n",
      "2.43955486795\n",
      "\n",
      "------------------------------\n",
      "\n",
      "Gas:\n",
      "Constant:\n",
      "54.6185844366\n",
      "\n",
      "Parameters:\n",
      "[[ -0.19071626]\n",
      " [ -0.34690464]\n",
      " [ 12.23632844]\n",
      " [ -0.02644855]\n",
      " [  5.42946794]\n",
      " [  5.24109443]\n",
      " [  8.55127997]\n",
      " [  0.40417714]\n",
      " [  5.96643496]\n",
      " [  6.11048673]\n",
      " [  6.35866414]\n",
      " [  4.64901683]\n",
      " [  7.54610872]\n",
      " [  4.36185358]]\n",
      "\n",
      "MSE:\n",
      "12.2654966719\n"
     ]
    }
   ],
   "source": [
    "# Computing MSE\n",
    "np.set_printoptions(suppress=True)\n",
    "\n",
    "#predicted comments according to wights\n",
    "def to_pred(f_coef,f_data):\n",
    "    # feature dot product with weights\n",
    "    # feature f_data from testing group\n",
    "    # weight f_coef from training\n",
    "    # predicted comments \n",
    "    constant = f_coef.loc[0,'Const']\n",
    "    f_coef.drop(['Const'], axis = 1, inplace= True)\n",
    "    f_coef = f_coef.T\n",
    "    pred = np.dot(f_data,f_coef)\n",
    "    pred = pred + constant\n",
    "    return pred\n",
    "\n",
    "\n",
    "if version == 'sklearn':\n",
    "    #prediction of testing group \n",
    "    y_pred_E = to_pred(df_coef_E,X_E_test)\n",
    "    y_pred_G = to_pred(df_coef_G,X_G_test)\n",
    "\n",
    "\n",
    "    #true value of testing group\n",
    "    y_true_E = Y_E_test\n",
    "    y_true_G = Y_G_test\n",
    "\n",
    "    #mean squared error\n",
    "    print('---------------Mean Suared Error of Electric---------------')\n",
    "    print(mean_squared_error(y_true_E, y_pred_E))\n",
    "    print('---------------Mean Suared Error of Gas---------------')\n",
    "    print(mean_squared_error(y_true_G, y_pred_G))\n",
    "    \n",
    "else:\n",
    "    \n",
    "    # Electricity\n",
    "    print('Electricity:')\n",
    "    const_e = results_e.params[0]\n",
    "    params_e = results_e.params[1:]\n",
    "    params_e = np.reshape(params_e, (params_e.shape[0], 1))\n",
    "\n",
    "    print('Constant:')\n",
    "    print(const_e)\n",
    "    print()\n",
    "    print('Parameters:')\n",
    "    print(params_e)\n",
    "    print() \n",
    "\n",
    "    # Y_test\n",
    "    Y_hat_e = np.dot(x_eTest, params_e) + const_e\n",
    "    print('MSE:')\n",
    "    print(mean_squared_error(y_eTest, Y_hat_e))\n",
    "    \n",
    "    print()\n",
    "    print('------------------------------')\n",
    "    print()\n",
    "    \n",
    "    # Gas\n",
    "    print('Gas:')\n",
    "    const_g = results_g.params[0]\n",
    "    params_g = results_g.params[1:]\n",
    "    params_g = np.reshape(params_g, (params_g.shape[0], 1))\n",
    "\n",
    "    print('Constant:')\n",
    "    print(const_g)\n",
    "    print()\n",
    "    print('Parameters:')\n",
    "    print(params_g)\n",
    "    print() \n",
    "\n",
    "    # Y_test\n",
    "    Y_hat_g = np.dot(x_gTest, params_g) + const_g\n",
    "    print('MSE:')\n",
    "    print(mean_squared_error(y_gTest, Y_hat_g))\n",
    "    \n",
    "    "
   ]
  },
  {
   "cell_type": "code",
   "execution_count": null,
   "metadata": {
    "collapsed": true
   },
   "outputs": [],
   "source": [
    "# Regularized Version of Linear Regression\n",
    "\n"
   ]
  },
  {
   "cell_type": "code",
   "execution_count": 15,
   "metadata": {},
   "outputs": [],
   "source": [
    "# print('Accuracy of linear model on electricity is',score_linear_mean_E)\n",
    "# print('Accuracy of linear model on gas is', score_linear_mean_G)"
   ]
  },
  {
   "cell_type": "markdown",
   "metadata": {},
   "source": [
    "## Multi-class Logistic Regression"
   ]
  },
  {
   "cell_type": "code",
   "execution_count": 16,
   "metadata": {},
   "outputs": [
    {
     "name": "stdout",
     "output_type": "stream",
     "text": [
      "Accuracy of logistic model on electricity is 0.841193091293\n",
      "Accuracy of logistic model on gas is 0.874171224701\n",
      "------------------------------------------------\n"
     ]
    }
   ],
   "source": [
    "# Run Logistic Regression\n",
    "# df_BU_analysis_E\n",
    "# df_BU_analysis_G\n",
    "\n",
    "\n",
    "# Traning Data\n",
    "X_E = df_BU_training_E[X_column]\n",
    "X_G = df_BU_training_G[X_column]\n",
    "\n",
    "Y_E = df_BU_training_E['Y_E_Level']\n",
    "Y_G = df_BU_training_G['Y_G_Level']\n",
    "\n",
    "\n",
    "# Testing Data\n",
    "X_E_test = df_BU_testing_E[X_column]\n",
    "X_G_test = df_BU_testing_G[X_column]\n",
    "\n",
    "Y_E_test = df_BU_testing_E['Y_E_Level']\n",
    "Y_G_test = df_BU_testing_G['Y_G_Level']\n",
    "\n",
    "\n",
    "logr_model_E = LogisticRegression()\n",
    "logr_model_G = LogisticRegression()\n",
    "\n",
    "logr_model_E.fit(X_E, Y_E)\n",
    "logr_model_G.fit(X_G, Y_G)\n",
    "\n",
    "score_E = cross_val_score(logr_model_E, X_E, Y_E, cv=3)\n",
    "score_G = cross_val_score(logr_model_G, X_G, Y_G, cv=3)\n",
    "\n",
    "score_logr_mean_E = score_E.mean()\n",
    "score_logr_mean_G = score_G.mean()\n",
    "\n",
    "print('Accuracy of logistic model on electricity is',score_logr_mean_E)\n",
    "print('Accuracy of logistic model on gas is', score_logr_mean_G)\n",
    "\n",
    "print('------------------------------------------------')"
   ]
  },
  {
   "cell_type": "code",
   "execution_count": 17,
   "metadata": {},
   "outputs": [
    {
     "name": "stdout",
     "output_type": "stream",
     "text": [
      "[-0.01040678 -0.02455878 -4.34951933  0.00207518  1.0838368   0.10815486\n",
      "  1.8990902  -1.46186588 -0.30641548 -0.14809398  1.03117804 -1.5593458\n",
      "  0.29542711 -0.67101447]\n"
     ]
    }
   ],
   "source": [
    "logr_E_coef = logr_model_E.coef_\n",
    "logr_G_coef = logr_model_G.coef_\n",
    "print(logr_E_coef[0, :])\n",
    "# print(logr_G_coef.shape)"
   ]
  },
  {
   "cell_type": "markdown",
   "metadata": {},
   "source": [
    "## Multi-class SVM"
   ]
  },
  {
   "cell_type": "code",
   "execution_count": null,
   "metadata": {
    "collapsed": true
   },
   "outputs": [],
   "source": [
    "# Run SVM\n"
   ]
  },
  {
   "cell_type": "markdown",
   "metadata": {},
   "source": [
    "## Neural Networks"
   ]
  },
  {
   "cell_type": "code",
   "execution_count": null,
   "metadata": {
    "collapsed": true
   },
   "outputs": [],
   "source": [
    "# Run NN\n"
   ]
  }
 ],
 "metadata": {
  "kernelspec": {
   "display_name": "Python 3",
   "language": "python",
   "name": "python3"
  },
  "language_info": {
   "codemirror_mode": {
    "name": "ipython",
    "version": 3
   },
   "file_extension": ".py",
   "mimetype": "text/x-python",
   "name": "python",
   "nbconvert_exporter": "python",
   "pygments_lexer": "ipython3",
   "version": "3.6.3"
  }
 },
 "nbformat": 4,
 "nbformat_minor": 2
}
