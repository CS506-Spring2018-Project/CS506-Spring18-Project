{
 "cells": [
  {
   "cell_type": "markdown",
   "metadata": {},
   "source": [
    "# Data Analysis for CS506 Project\n",
    "\n",
    "In CS506_DataProcessing_Graph.ipynb file, datasets are processed and cleaned finally store in 2 csv files. Two files are: **df_201x_BU_analysis_E_Final.csv** and **df_201x_BU_analysis_G_Final.csv**. In this analysis, we directly use those two files to do the analysis"
   ]
  },
  {
   "cell_type": "code",
   "execution_count": 1,
   "metadata": {},
   "outputs": [],
   "source": [
    "# Import files\n",
    "import csv\n",
    "import pandas as pd\n",
    "import numpy as np\n",
    "from sklearn.preprocessing import normalize\n",
    "from sklearn.metrics import mean_squared_error\n",
    "from sklearn.linear_model import LinearRegression\n",
    "from sklearn.model_selection import cross_val_score\n",
    "from sklearn.linear_model import LogisticRegression"
   ]
  },
  {
   "cell_type": "code",
   "execution_count": 2,
   "metadata": {},
   "outputs": [],
   "source": [
    "# Read data\n",
    "df_BU_analysis_E = pd.read_csv('df_201x_BU_analysis_E_Final.csv', index_col=0)\n",
    "df_BU_analysis_G = pd.read_csv('df_201x_BU_analysis_G_Final.csv', index_col=0)"
   ]
  },
  {
   "cell_type": "code",
   "execution_count": 3,
   "metadata": {},
   "outputs": [],
   "source": [
    "# Browsing data for Electricity\n",
    "# df_BU_analysis_E.head(10)"
   ]
  },
  {
   "cell_type": "code",
   "execution_count": 4,
   "metadata": {},
   "outputs": [],
   "source": [
    "# Browsing data for Gas\n",
    "# df_BU_analysis_G.head(10)"
   ]
  },
  {
   "cell_type": "markdown",
   "metadata": {},
   "source": [
    "## Linear Regression"
   ]
  },
  {
   "cell_type": "code",
   "execution_count": 5,
   "metadata": {},
   "outputs": [
    {
     "name": "stdout",
     "output_type": "stream",
     "text": [
      "Index(['Temperature', 'WI', 'GHGI', 'Age', 'Uses_College', 'Uses_Sports',\n",
      "       'Uses_ResidentHousing', 'Uses_Laboratory', 'Uses_Office', 'Uses_Hotel',\n",
      "       'Uses_Distribution', 'Uses_Food', 'Uses_Worship', 'Uses_Medical',\n",
      "       'Y_Gas', 'Y_G_Level'],\n",
      "      dtype='object')\n",
      "Index(['Temperature', 'WI', 'GHGI', 'Age', 'Uses_College', 'Uses_Sports',\n",
      "       'Uses_ResidentHousing', 'Uses_Laboratory', 'Uses_Office', 'Uses_Hotel',\n",
      "       'Uses_Distribution', 'Uses_Food', 'Uses_Worship', 'Uses_Medical',\n",
      "       'Y_Electric', 'Y_E_Level'],\n",
      "      dtype='object')\n",
      "BU_data shape\n",
      "(1512, 16)\n",
      "(1404, 16)\n",
      "(1512, 16)\n",
      "(1404, 16)\n",
      "\n",
      "Training Data Shape:\n",
      "(1360, 14)\n",
      "(1263, 14)\n",
      "\n",
      "(1360,)\n",
      "(1263,)\n",
      "\n",
      "Testing Data Shape:\n",
      "(152, 14)\n",
      "(141, 14)\n",
      "\n",
      "(152,)\n",
      "(141,)\n"
     ]
    }
   ],
   "source": [
    "# Linear Regression:\n",
    "\n",
    "# Using Sklearn linear model to do the prediction\n",
    "linearModel_E = LinearRegression(fit_intercept=True, normalize = True)\n",
    "linearModel_G = LinearRegression(fit_intercept=True, normalize = True)\n",
    "\n",
    "# Data for E and G\n",
    "print(df_BU_analysis_G.columns)\n",
    "print(df_BU_analysis_E.columns)\n",
    "\n",
    "\n",
    "\n",
    "# Generating Training and Testing sets for 2 regressions (Electricity, Gas)\n",
    "df_BU_analysis_E_shuffle = df_BU_analysis_E.sample(frac = 1)\n",
    "df_BU_analysis_G_shuffle = df_BU_analysis_G.sample(frac = 1)\n",
    "\n",
    "num_e = int(len(df_BU_analysis_E_shuffle)*0.9)\n",
    "num_g = int(len(df_BU_analysis_G_shuffle)*0.9)\n",
    "\n",
    "df_BU_training_E = df_BU_analysis_E_shuffle.iloc[:num_e, :]\n",
    "df_BU_testing_E = df_BU_analysis_E_shuffle.iloc[num_e:, :]\n",
    "\n",
    "df_BU_training_G = df_BU_analysis_G_shuffle.iloc[:num_g, :]\n",
    "df_BU_testing_G = df_BU_analysis_G_shuffle.iloc[num_g:, :]\n",
    "\n",
    "\n",
    "X_column = ['Temperature', 'WI', 'GHGI', 'Age', 'Uses_College', 'Uses_Sports', 'Uses_ResidentHousing', 'Uses_Laboratory', 'Uses_Office', 'Uses_Hotel', 'Uses_Distribution', 'Uses_Food', 'Uses_Worship', 'Uses_Medical']\n",
    "# X_column = ['Temperature', 'WI', 'Age', 'Uses_College', 'Uses_Sports', 'Uses_ResidentHousing', 'Uses_Laboratory', 'Uses_Office', 'Uses_Hotel', 'Uses_Distribution', 'Uses_Food', 'Uses_Worship', 'Uses_Medical']\n",
    "\n",
    "\n",
    "# Traning Data\n",
    "X_E = df_BU_training_E[X_column]\n",
    "X_G = df_BU_training_G[X_column]\n",
    "\n",
    "Y_E = df_BU_training_E['Y_Electric']\n",
    "Y_G = df_BU_training_G['Y_Gas']\n",
    "\n",
    "\n",
    "# Testing Data\n",
    "X_E_test = df_BU_testing_E[X_column]\n",
    "X_G_test = df_BU_testing_G[X_column]\n",
    "\n",
    "Y_E_test = df_BU_testing_E['Y_Electric']\n",
    "Y_G_test = df_BU_testing_G['Y_Gas']\n",
    "\n",
    "print('BU_data shape')\n",
    "print(df_BU_analysis_E.shape)\n",
    "print(df_BU_analysis_G.shape)\n",
    "print(df_BU_analysis_E_shuffle.shape)\n",
    "print(df_BU_analysis_G_shuffle.shape)\n",
    "\n",
    "print()\n",
    "print('Training Data Shape:')\n",
    "print(X_E.shape)\n",
    "print(X_G.shape)\n",
    "print()\n",
    "print(Y_E.shape)\n",
    "print(Y_G.shape)\n",
    "\n",
    "\n",
    "print()\n",
    "print('Testing Data Shape:')\n",
    "print(X_E_test.shape)\n",
    "print(X_G_test.shape)\n",
    "print()\n",
    "print(Y_E_test.shape)\n",
    "print(Y_G_test.shape)"
   ]
  },
  {
   "cell_type": "code",
   "execution_count": 6,
   "metadata": {},
   "outputs": [
    {
     "name": "stdout",
     "output_type": "stream",
     "text": [
      "E: Parameters\n",
      "(14,)\n",
      "-48.13325201120033\n",
      "\n",
      "G: Parameters\n",
      "(14,)\n",
      "61.13502109348905\n"
     ]
    }
   ],
   "source": [
    "# Run the regression:\n",
    "\n",
    "X_column = ['Temperature', 'WI', 'GHGI', 'Age', 'Uses_College', 'Uses_Sports', 'Uses_ResidentHousing', 'Uses_Laboratory', 'Uses_Office', 'Uses_Hotel', 'Uses_Distribution', 'Uses_Food', 'Uses_Worship', 'Uses_Medical']\n",
    "# X_column = ['Temperature', 'WI', 'Age', 'Uses_College', 'Uses_Sports', 'Uses_ResidentHousing', 'Uses_Laboratory', 'Uses_Office', 'Uses_Hotel', 'Uses_Distribution', 'Uses_Food', 'Uses_Worship', 'Uses_Medical']\n",
    "\n",
    "\n",
    "linearModel_E.fit(X_E, Y_E)\n",
    "linearModel_G.fit(X_G, Y_G)\n",
    "\n",
    "# linear regression accuracy through cross validation\n",
    "score_E = cross_val_score(linearModel_E, X_E, Y_E, cv=3)\n",
    "score_linear_mean_E = score_E.mean()\n",
    "score_G = cross_val_score(linearModel_G, X_G, Y_G, cv=3)\n",
    "score_linear_mean_G = score_G.mean()\n",
    "\n",
    "\n",
    "\n",
    "np.set_printoptions(suppress=True)\n",
    "\n",
    "print('E: Parameters')\n",
    "print(linearModel_E.coef_.shape)\n",
    "print(linearModel_E.intercept_)\n",
    "\n",
    "print()\n",
    "print('G: Parameters')\n",
    "print(linearModel_G.coef_.shape)\n",
    "print(linearModel_G.intercept_)\n",
    "\n",
    "\n",
    "coef_E = linearModel_E.coef_\n",
    "coef_G = linearModel_G.coef_\n",
    "\n",
    "coef_E = coef_E.reshape(coef_E.shape[0], 1)\n",
    "coef_G = coef_G.reshape(coef_G.shape[0], 1)\n",
    "\n",
    "df_coef_E = pd.DataFrame(coef_E.T, columns = X_column)\n",
    "df_coef_G = pd.DataFrame(coef_G.T, columns = X_column)\n",
    "\n",
    "df_coef_E['Const'] = linearModel_E.intercept_\n",
    "df_coef_G['Const'] = linearModel_G.intercept_\n",
    "# print(df_coef_E)\n",
    "# print()\n",
    "# print(df_coef_G)"
   ]
  },
  {
   "cell_type": "code",
   "execution_count": 7,
   "metadata": {},
   "outputs": [
    {
     "data": {
      "text/html": [
       "<div>\n",
       "<style scoped>\n",
       "    .dataframe tbody tr th:only-of-type {\n",
       "        vertical-align: middle;\n",
       "    }\n",
       "\n",
       "    .dataframe tbody tr th {\n",
       "        vertical-align: top;\n",
       "    }\n",
       "\n",
       "    .dataframe thead th {\n",
       "        text-align: right;\n",
       "    }\n",
       "</style>\n",
       "<table border=\"1\" class=\"dataframe\">\n",
       "  <thead>\n",
       "    <tr style=\"text-align: right;\">\n",
       "      <th></th>\n",
       "      <th>Temperature</th>\n",
       "      <th>WI</th>\n",
       "      <th>GHGI</th>\n",
       "      <th>Age</th>\n",
       "      <th>Uses_College</th>\n",
       "      <th>Uses_Sports</th>\n",
       "      <th>Uses_ResidentHousing</th>\n",
       "      <th>Uses_Laboratory</th>\n",
       "      <th>Uses_Office</th>\n",
       "      <th>Uses_Hotel</th>\n",
       "      <th>Uses_Distribution</th>\n",
       "      <th>Uses_Food</th>\n",
       "      <th>Uses_Worship</th>\n",
       "      <th>Uses_Medical</th>\n",
       "      <th>Const</th>\n",
       "    </tr>\n",
       "  </thead>\n",
       "  <tbody>\n",
       "    <tr>\n",
       "      <th>0</th>\n",
       "      <td>0.013288</td>\n",
       "      <td>0.018409</td>\n",
       "      <td>3.772179</td>\n",
       "      <td>0.016693</td>\n",
       "      <td>16.137848</td>\n",
       "      <td>15.964847</td>\n",
       "      <td>14.702094</td>\n",
       "      <td>19.421576</td>\n",
       "      <td>16.342977</td>\n",
       "      <td>16.177176</td>\n",
       "      <td>15.343214</td>\n",
       "      <td>16.583071</td>\n",
       "      <td>14.452517</td>\n",
       "      <td>17.881133</td>\n",
       "      <td>-48.133252</td>\n",
       "    </tr>\n",
       "  </tbody>\n",
       "</table>\n",
       "</div>"
      ],
      "text/plain": [
       "   Temperature        WI      GHGI       Age  Uses_College  Uses_Sports  \\\n",
       "0     0.013288  0.018409  3.772179  0.016693     16.137848    15.964847   \n",
       "\n",
       "   Uses_ResidentHousing  Uses_Laboratory  Uses_Office  Uses_Hotel  \\\n",
       "0             14.702094        19.421576    16.342977   16.177176   \n",
       "\n",
       "   Uses_Distribution  Uses_Food  Uses_Worship  Uses_Medical      Const  \n",
       "0          15.343214  16.583071     14.452517     17.881133 -48.133252  "
      ]
     },
     "execution_count": 7,
     "metadata": {},
     "output_type": "execute_result"
    }
   ],
   "source": [
    "df_coef_E"
   ]
  },
  {
   "cell_type": "code",
   "execution_count": 8,
   "metadata": {},
   "outputs": [
    {
     "data": {
      "text/html": [
       "<div>\n",
       "<style scoped>\n",
       "    .dataframe tbody tr th:only-of-type {\n",
       "        vertical-align: middle;\n",
       "    }\n",
       "\n",
       "    .dataframe tbody tr th {\n",
       "        vertical-align: top;\n",
       "    }\n",
       "\n",
       "    .dataframe thead th {\n",
       "        text-align: right;\n",
       "    }\n",
       "</style>\n",
       "<table border=\"1\" class=\"dataframe\">\n",
       "  <thead>\n",
       "    <tr style=\"text-align: right;\">\n",
       "      <th></th>\n",
       "      <th>Temperature</th>\n",
       "      <th>WI</th>\n",
       "      <th>GHGI</th>\n",
       "      <th>Age</th>\n",
       "      <th>Uses_College</th>\n",
       "      <th>Uses_Sports</th>\n",
       "      <th>Uses_ResidentHousing</th>\n",
       "      <th>Uses_Laboratory</th>\n",
       "      <th>Uses_Office</th>\n",
       "      <th>Uses_Hotel</th>\n",
       "      <th>Uses_Distribution</th>\n",
       "      <th>Uses_Food</th>\n",
       "      <th>Uses_Worship</th>\n",
       "      <th>Uses_Medical</th>\n",
       "      <th>Const</th>\n",
       "    </tr>\n",
       "  </thead>\n",
       "  <tbody>\n",
       "    <tr>\n",
       "      <th>0</th>\n",
       "      <td>-0.187267</td>\n",
       "      <td>-0.427835</td>\n",
       "      <td>12.531559</td>\n",
       "      <td>-0.027002</td>\n",
       "      <td>-0.344456</td>\n",
       "      <td>-0.227508</td>\n",
       "      <td>3.051102</td>\n",
       "      <td>-5.384842</td>\n",
       "      <td>0.085196</td>\n",
       "      <td>0.558924</td>\n",
       "      <td>0.649408</td>\n",
       "      <td>-1.105248</td>\n",
       "      <td>1.984628</td>\n",
       "      <td>-1.575424</td>\n",
       "      <td>61.135021</td>\n",
       "    </tr>\n",
       "  </tbody>\n",
       "</table>\n",
       "</div>"
      ],
      "text/plain": [
       "   Temperature        WI       GHGI       Age  Uses_College  Uses_Sports  \\\n",
       "0    -0.187267 -0.427835  12.531559 -0.027002     -0.344456    -0.227508   \n",
       "\n",
       "   Uses_ResidentHousing  Uses_Laboratory  Uses_Office  Uses_Hotel  \\\n",
       "0              3.051102        -5.384842     0.085196    0.558924   \n",
       "\n",
       "   Uses_Distribution  Uses_Food  Uses_Worship  Uses_Medical      Const  \n",
       "0           0.649408  -1.105248      1.984628     -1.575424  61.135021  "
      ]
     },
     "execution_count": 8,
     "metadata": {},
     "output_type": "execute_result"
    }
   ],
   "source": [
    "df_coef_G"
   ]
  },
  {
   "cell_type": "code",
   "execution_count": 9,
   "metadata": {},
   "outputs": [
    {
     "name": "stdout",
     "output_type": "stream",
     "text": [
      "---------------Mean Suared Error of Electric---------------\n",
      "3.633350040459854\n",
      "---------------Mean Suared Error of Gas---------------\n",
      "14.454162619617886\n"
     ]
    }
   ],
   "source": [
    "# Mean Squared Error\n",
    "\n",
    "#predicted comments according to wights\n",
    "def to_pred(f_coef,f_data):\n",
    "    # feature dot product with weights\n",
    "    # feature f_data from testing group\n",
    "    # weight f_coef from training\n",
    "    # predicted comments \n",
    "    constant = f_coef.loc[0,'Const']\n",
    "    f_coef.drop(['Const'], axis = 1, inplace= True)\n",
    "    f_coef = f_coef.T\n",
    "    pred = np.dot(f_data,f_coef)\n",
    "    pred = pred + constant\n",
    "    return pred\n",
    "\n",
    "\n",
    "#prediction of testing group \n",
    "y_pred_E = to_pred(df_coef_E,X_E_test)\n",
    "y_pred_G = to_pred(df_coef_G,X_G_test)\n",
    "\n",
    "\n",
    "#true value of testing group\n",
    "y_true_E = Y_E_test\n",
    "y_true_G = Y_G_test\n",
    "\n",
    "#mean squared error\n",
    "print('---------------Mean Suared Error of Electric---------------')\n",
    "print(mean_squared_error(y_true_E, y_pred_E))\n",
    "print('---------------Mean Suared Error of Gas---------------')\n",
    "print(mean_squared_error(y_true_G, y_pred_G))"
   ]
  },
  {
   "cell_type": "code",
   "execution_count": 10,
   "metadata": {},
   "outputs": [
    {
     "name": "stdout",
     "output_type": "stream",
     "text": [
      "Accuracy of linear model on electricity is 0.800500625002194\n",
      "Accuracy of linear model on gas is 0.6801249101157193\n"
     ]
    }
   ],
   "source": [
    "print('Accuracy of linear model on electricity is',score_linear_mean_E)\n",
    "print('Accuracy of linear model on gas is', score_linear_mean_G)"
   ]
  },
  {
   "cell_type": "markdown",
   "metadata": {},
   "source": [
    "## Multi-class Logistic Regression"
   ]
  },
  {
   "cell_type": "code",
   "execution_count": 12,
   "metadata": {},
   "outputs": [
    {
     "name": "stdout",
     "output_type": "stream",
     "text": [
      "Accuracy of logistic model on electricity is 0.8390122323505799\n",
      "Accuracy of logistic model on gas is 0.8741185645153234\n"
     ]
    },
    {
     "name": "stderr",
     "output_type": "stream",
     "text": [
      "/Users/qianzhang/anaconda3/lib/python3.6/site-packages/sklearn/model_selection/_split.py:605: Warning: The least populated class in y has only 2 members, which is too few. The minimum number of members in any class cannot be less than n_splits=3.\n",
      "  % (min_groups, self.n_splits)), Warning)\n"
     ]
    }
   ],
   "source": [
    "# Run Logistic Regression\n",
    "# df_BU_analysis_E\n",
    "# df_BU_analysis_G\n",
    "\n",
    "\n",
    "# Traning Data\n",
    "X_E = df_BU_training_E[X_column]\n",
    "X_G = df_BU_training_G[X_column]\n",
    "\n",
    "Y_E = df_BU_training_E['Y_E_Level']\n",
    "Y_G = df_BU_training_G['Y_G_Level']\n",
    "\n",
    "\n",
    "# Testing Data\n",
    "X_E_test = df_BU_testing_E[X_column]\n",
    "X_G_test = df_BU_testing_G[X_column]\n",
    "\n",
    "Y_E_test = df_BU_testing_E['Y_E_Level']\n",
    "Y_G_test = df_BU_testing_G['Y_G_Level']\n",
    "\n",
    "\n",
    "\n",
    "\n",
    "logr_model_E = LogisticRegression()\n",
    "logr_model_G = LogisticRegression()\n",
    "\n",
    "logr_model_E.fit(X_E, Y_E)\n",
    "logr_model_G.fit(X_G, Y_G)\n",
    "\n",
    "score_E = cross_val_score(logr_model_E, X_E, Y_E, cv=3)\n",
    "score_G = cross_val_score(logr_model_G, X_G, Y_G, cv=3)\n",
    "\n",
    "score_logr_mean_E = score_E.mean()\n",
    "score_logr_mean_G = score_G.mean()\n",
    "\n",
    "print('Accuracy of logistic model on electricity is',score_logr_mean_E)\n",
    "print('Accuracy of logistic model on gas is', score_logr_mean_G)"
   ]
  },
  {
   "cell_type": "code",
   "execution_count": 15,
   "metadata": {},
   "outputs": [
    {
     "name": "stdout",
     "output_type": "stream",
     "text": [
      "[-0.01461669 -0.00332248 -5.28712221  0.00242437  1.067849    0.17886347\n",
      "  1.9370223  -1.78204702 -0.49903574 -0.23910736  1.41726598 -1.75753664\n",
      "  0.39209047 -0.30107442]\n"
     ]
    }
   ],
   "source": [
    "logr_E_coef = logr_model_E.coef_\n",
    "logr_G_coef = logr_model_G.coef_\n",
    "print(logr_E_coef[0, :])\n",
    "# print(logr_G_coef.shape)"
   ]
  },
  {
   "cell_type": "markdown",
   "metadata": {},
   "source": [
    "## Multi-class SVM"
   ]
  },
  {
   "cell_type": "code",
   "execution_count": null,
   "metadata": {},
   "outputs": [],
   "source": [
    "# Run SVM\n"
   ]
  },
  {
   "cell_type": "markdown",
   "metadata": {},
   "source": [
    "## Neural Networks"
   ]
  },
  {
   "cell_type": "code",
   "execution_count": null,
   "metadata": {},
   "outputs": [],
   "source": [
    "# Run NN\n"
   ]
  }
 ],
 "metadata": {
  "kernelspec": {
   "display_name": "Python 3",
   "language": "python",
   "name": "python3"
  },
  "language_info": {
   "codemirror_mode": {
    "name": "ipython",
    "version": 3
   },
   "file_extension": ".py",
   "mimetype": "text/x-python",
   "name": "python",
   "nbconvert_exporter": "python",
   "pygments_lexer": "ipython3",
   "version": "3.6.4"
  }
 },
 "nbformat": 4,
 "nbformat_minor": 2
}
