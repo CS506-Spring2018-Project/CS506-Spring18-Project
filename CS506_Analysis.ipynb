{
 "cells": [
  {
   "cell_type": "markdown",
   "metadata": {},
   "source": [
    "# Data Analysis for CS506 Project\n",
    "\n",
    "In CS506_DataProcessing_Graph.ipynb file, datasets are processed and cleaned finally store in 2 csv files. Two files are: **df_201x_BU_analysis_E_Final.csv** and **df_201x_BU_analysis_G_Final.csv**. In this analysis, we directly use those two files to do the analysis"
   ]
  },
  {
   "cell_type": "code",
   "execution_count": 1,
   "metadata": {},
   "outputs": [
    {
     "name": "stderr",
     "output_type": "stream",
     "text": [
      "/Users/chengyudeng/anaconda3/lib/python3.6/site-packages/statsmodels/compat/pandas.py:56: FutureWarning: The pandas.core.datetools module is deprecated and will be removed in a future version. Please use the pandas.tseries module instead.\n",
      "  from pandas.core import datetools\n"
     ]
    }
   ],
   "source": [
    "# Import files\n",
    "import csv\n",
    "import pandas as pd\n",
    "import numpy as np\n",
    "from sklearn.preprocessing import normalize\n",
    "from sklearn.metrics import mean_squared_error\n",
    "from sklearn.linear_model import LinearRegression\n",
    "from sklearn.model_selection import cross_val_score\n",
    "from sklearn.linear_model import LogisticRegression\n",
    "\n",
    "import statsmodels.api as sm\n",
    "from sklearn.metrics import mean_squared_error\n",
    "# import statsmodels.formula.api as smf"
   ]
  },
  {
   "cell_type": "code",
   "execution_count": 2,
   "metadata": {},
   "outputs": [
    {
     "name": "stdout",
     "output_type": "stream",
     "text": [
      "Index(['Temperature', 'WI', 'GHGI', 'Age', 'Uses_College', 'Uses_Sports',\n",
      "       'Uses_ResidentHousing', 'Uses_Laboratory', 'Uses_Office', 'Uses_Hotel',\n",
      "       'Uses_Distribution', 'Uses_Food', 'Uses_Worship', 'Uses_Medical',\n",
      "       'Y_Gas', 'Y_G_Level'],\n",
      "      dtype='object')\n",
      "Index(['Temperature', 'WI', 'GHGI', 'Age', 'Uses_College', 'Uses_Sports',\n",
      "       'Uses_ResidentHousing', 'Uses_Laboratory', 'Uses_Office', 'Uses_Hotel',\n",
      "       'Uses_Distribution', 'Uses_Food', 'Uses_Worship', 'Uses_Medical',\n",
      "       'Y_Electric', 'Y_E_Level'],\n",
      "      dtype='object')\n"
     ]
    }
   ],
   "source": [
    "# Read data\n",
    "df_BU_analysis_E = pd.read_csv('df_201x_BU_analysis_E_Final.csv', index_col=0)\n",
    "df_BU_analysis_G = pd.read_csv('df_201x_BU_analysis_G_Final.csv', index_col=0)\n",
    "\n",
    "# Data for E and G\n",
    "print(df_BU_analysis_G.columns)\n",
    "print(df_BU_analysis_E.columns)"
   ]
  },
  {
   "cell_type": "code",
   "execution_count": 3,
   "metadata": {
    "collapsed": true
   },
   "outputs": [],
   "source": [
    "# Browsing data for Electricity\n",
    "# df_BU_analysis_E.head(10)"
   ]
  },
  {
   "cell_type": "code",
   "execution_count": 4,
   "metadata": {
    "collapsed": true
   },
   "outputs": [],
   "source": [
    "# Browsing data for Gas\n",
    "# df_BU_analysis_G.head(10)"
   ]
  },
  {
   "cell_type": "code",
   "execution_count": 5,
   "metadata": {
    "collapsed": true
   },
   "outputs": [],
   "source": [
    "# Generating Training and Testing sets for 2 regressions (Electricity, Gas)\n",
    "df_BU_analysis_E_shuffle = df_BU_analysis_E.sample(frac = 1)\n",
    "df_BU_analysis_G_shuffle = df_BU_analysis_G.sample(frac = 1)\n",
    "\n",
    "num_e = int(len(df_BU_analysis_E_shuffle)*0.9)\n",
    "num_g = int(len(df_BU_analysis_G_shuffle)*0.9)\n",
    "\n",
    "df_BU_training_E = df_BU_analysis_E_shuffle.iloc[:num_e, :]\n",
    "df_BU_testing_E = df_BU_analysis_E_shuffle.iloc[num_e:, :]\n",
    "\n",
    "df_BU_training_G = df_BU_analysis_G_shuffle.iloc[:num_g, :]\n",
    "df_BU_testing_G = df_BU_analysis_G_shuffle.iloc[num_g:, :]\n",
    "\n",
    "X_column = ['Temperature', 'WI', 'GHGI', 'Age', 'Uses_College', 'Uses_Sports', 'Uses_ResidentHousing', 'Uses_Laboratory', 'Uses_Office', 'Uses_Hotel', 'Uses_Distribution', 'Uses_Food', 'Uses_Worship', 'Uses_Medical']\n",
    "# X_column = ['Temperature', 'WI', 'Age', 'Uses_College', 'Uses_Sports', 'Uses_ResidentHousing', 'Uses_Laboratory', 'Uses_Office', 'Uses_Hotel', 'Uses_Distribution', 'Uses_Food', 'Uses_Worship', 'Uses_Medical']\n"
   ]
  },
  {
   "cell_type": "code",
   "execution_count": 6,
   "metadata": {
    "collapsed": true
   },
   "outputs": [],
   "source": [
    "def printVariables():\n",
    "    for i in range(len(X_column)):\n",
    "        print('x{}: {}'.format(i+1, X_column[i]))\n",
    "        "
   ]
  },
  {
   "cell_type": "markdown",
   "metadata": {},
   "source": [
    "## Linear Regression"
   ]
  },
  {
   "cell_type": "code",
   "execution_count": 7,
   "metadata": {},
   "outputs": [
    {
     "name": "stdout",
     "output_type": "stream",
     "text": [
      "BU_data shape\n",
      "(1512, 16)\n",
      "(1404, 16)\n",
      "(1512, 16)\n",
      "(1404, 16)\n",
      "\n",
      "Training Data Shape:\n",
      "(1360, 14)\n",
      "(1263, 14)\n",
      "\n",
      "(1360,)\n",
      "(1263,)\n",
      "\n",
      "Testing Data Shape:\n",
      "(152, 14)\n",
      "(141, 14)\n",
      "\n",
      "(152,)\n",
      "(141,)\n"
     ]
    }
   ],
   "source": [
    "# Statesmodel Version of LR\n",
    "# Traning Data\n",
    "\n",
    "X_E = df_BU_training_E[X_column]\n",
    "Y_E = df_BU_training_E['Y_Electric']\n",
    "\n",
    "X_G = df_BU_training_G[X_column]\n",
    "Y_G = df_BU_training_G['Y_Gas']\n",
    "\n",
    "\n",
    "# Testing Data\n",
    "X_E_test = df_BU_testing_E[X_column]\n",
    "Y_E_test = df_BU_testing_E['Y_Electric']\n",
    "\n",
    "X_G_test = df_BU_testing_G[X_column]\n",
    "Y_G_test = df_BU_testing_G['Y_Gas']\n",
    "\n",
    "print('BU_data shape')\n",
    "print(df_BU_analysis_E.shape)\n",
    "print(df_BU_analysis_G.shape)\n",
    "print(df_BU_analysis_E_shuffle.shape)\n",
    "print(df_BU_analysis_G_shuffle.shape)\n",
    "print()\n",
    "print('Training Data Shape:')\n",
    "print(X_E.shape)\n",
    "print(X_G.shape)\n",
    "print()\n",
    "print(Y_E.shape)\n",
    "print(Y_G.shape)\n",
    "print()\n",
    "print('Testing Data Shape:')\n",
    "print(X_E_test.shape)\n",
    "print(X_G_test.shape)\n",
    "print()\n",
    "print(Y_E_test.shape)\n",
    "print(Y_G_test.shape)\n"
   ]
  },
  {
   "cell_type": "code",
   "execution_count": 8,
   "metadata": {},
   "outputs": [],
   "source": [
    "# Run the regression:\n",
    "version = 'statsModel'\n",
    "# version = 'sklearn'\n",
    "\n",
    "\n",
    "if version == 'statsModel':\n",
    "    # Electricity\n",
    "    x_e = X_E.values\n",
    "    y_e = Y_E.values\n",
    "    x_eTest = X_E_test.values\n",
    "    y_eTest = Y_E_test.values\n",
    "    # OLS regression\n",
    "    x_e = sm.add_constant(x_e)\n",
    "    model_e = sm.OLS(y_e,x_e)\n",
    "    results_e = model_e.fit()\n",
    "    \n",
    "    \n",
    "    # Gas\n",
    "    x_g = X_G.values\n",
    "    y_g = Y_G.values\n",
    "    x_gTest = X_G_test.values\n",
    "    y_gTest = Y_G_test.values\n",
    "    # OLS regression \n",
    "    x_g = sm.add_constant(x_g)\n",
    "    model_g = sm.OLS(y_g,x_g)\n",
    "    results_g = model_g.fit()\n",
    "    \n",
    "else:\n",
    "    \n",
    "    # Using Sklearn linear model to do the prediction\n",
    "    linearModel_E = LinearRegression(fit_intercept=True, normalize = True)\n",
    "    linearModel_G = LinearRegression(fit_intercept=True, normalize = True)\n",
    "\n",
    "\n",
    "    linearModel_E.fit(X_E, Y_E)\n",
    "    linearModel_G.fit(X_G, Y_G)\n",
    "\n",
    "    # linear regression accuracy through cross validation\n",
    "    score_E = cross_val_score(linearModel_E, X_E, Y_E, cv=3)\n",
    "    score_linear_mean_E = score_E.mean()\n",
    "    score_G = cross_val_score(linearModel_G, X_G, Y_G, cv=3)\n",
    "    score_linear_mean_G = score_G.mean()\n",
    "\n",
    "\n",
    "\n",
    "    np.set_printoptions(suppress=True)\n",
    "\n",
    "    print('E: Parameters')\n",
    "    print(linearModel_E.coef_.shape)\n",
    "    print(linearModel_E.intercept_)\n",
    "\n",
    "    print()\n",
    "    print('G: Parameters')\n",
    "    print(linearModel_G.coef_.shape)\n",
    "    print(linearModel_G.intercept_)\n",
    "\n",
    "\n",
    "    coef_E = linearModel_E.coef_\n",
    "    coef_G = linearModel_G.coef_\n",
    "\n",
    "    coef_E = coef_E.reshape(coef_E.shape[0], 1)\n",
    "    coef_G = coef_G.reshape(coef_G.shape[0], 1)\n",
    "\n",
    "    df_coef_E = pd.DataFrame(coef_E.T, columns = X_column)\n",
    "    df_coef_G = pd.DataFrame(coef_G.T, columns = X_column)\n",
    "\n",
    "    df_coef_E['Const'] = linearModel_E.intercept_\n",
    "    df_coef_G['Const'] = linearModel_G.intercept_\n"
   ]
  },
  {
   "cell_type": "code",
   "execution_count": 9,
   "metadata": {},
   "outputs": [
    {
     "name": "stdout",
     "output_type": "stream",
     "text": [
      "x1: Temperature\n",
      "x2: WI\n",
      "x3: GHGI\n",
      "x4: Age\n",
      "x5: Uses_College\n",
      "x6: Uses_Sports\n",
      "x7: Uses_ResidentHousing\n",
      "x8: Uses_Laboratory\n",
      "x9: Uses_Office\n",
      "x10: Uses_Hotel\n",
      "x11: Uses_Distribution\n",
      "x12: Uses_Food\n",
      "x13: Uses_Worship\n",
      "x14: Uses_Medical\n",
      "\n",
      "                            OLS Regression Results                            \n",
      "==============================================================================\n",
      "Dep. Variable:                      y   R-squared:                       0.805\n",
      "Model:                            OLS   Adj. R-squared:                  0.803\n",
      "Method:                 Least Squares   F-statistic:                     397.0\n",
      "Date:                Tue, 01 May 2018   Prob (F-statistic):               0.00\n",
      "Time:                        14:20:07   Log-Likelihood:                -2557.2\n",
      "No. Observations:                1360   AIC:                             5144.\n",
      "Df Residuals:                    1345   BIC:                             5223.\n",
      "Df Model:                          14                                         \n",
      "Covariance Type:            nonrobust                                         \n",
      "==============================================================================\n",
      "                 coef    std err          t      P>|t|      [0.025      0.975]\n",
      "------------------------------------------------------------------------------\n",
      "const        -48.5370      7.119     -6.818      0.000     -62.503     -34.571\n",
      "x1             0.0134      0.003      5.041      0.000       0.008       0.019\n",
      "x2             0.0186      0.006      2.970      0.003       0.006       0.031\n",
      "x3             3.8422      0.121     31.868      0.000       3.606       4.079\n",
      "x4             0.0167      0.001     12.823      0.000       0.014       0.019\n",
      "x5            16.4049      6.612      2.481      0.013       3.435      29.375\n",
      "x6            16.2647      6.601      2.464      0.014       3.315      29.214\n",
      "x7            14.9731      6.591      2.272      0.023       2.044      27.903\n",
      "x8            19.7369      6.608      2.987      0.003       6.774      32.699\n",
      "x9            16.7439      6.612      2.532      0.011       3.773      29.715\n",
      "x10           16.4387      6.593      2.493      0.013       3.505      29.372\n",
      "x11           15.6731      6.623      2.366      0.018       2.680      28.666\n",
      "x12           16.7846      6.604      2.542      0.011       3.829      29.740\n",
      "x13           14.7513      6.615      2.230      0.026       1.775      27.728\n",
      "x14           17.9051      6.613      2.708      0.007       4.933      30.878\n",
      "==============================================================================\n",
      "Omnibus:                      507.546   Durbin-Watson:                   1.978\n",
      "Prob(Omnibus):                  0.000   Jarque-Bera (JB):             4529.680\n",
      "Skew:                           1.479   Prob(JB):                         0.00\n",
      "Kurtosis:                      11.437   Cond. No.                     9.93e+05\n",
      "==============================================================================\n",
      "\n",
      "Warnings:\n",
      "[1] Standard Errors assume that the covariance matrix of the errors is correctly specified.\n",
      "[2] The condition number is large, 9.93e+05. This might indicate that there are\n",
      "strong multicollinearity or other numerical problems.\n"
     ]
    }
   ],
   "source": [
    "if version == 'sklearn':\n",
    "    df_coef_E\n",
    "else:\n",
    "    printVariables()\n",
    "    print()\n",
    "    print(results_e.summary())"
   ]
  },
  {
   "cell_type": "code",
   "execution_count": 10,
   "metadata": {},
   "outputs": [
    {
     "name": "stdout",
     "output_type": "stream",
     "text": [
      "x1: Temperature\n",
      "x2: WI\n",
      "x3: GHGI\n",
      "x4: Age\n",
      "x5: Uses_College\n",
      "x6: Uses_Sports\n",
      "x7: Uses_ResidentHousing\n",
      "x8: Uses_Laboratory\n",
      "x9: Uses_Office\n",
      "x10: Uses_Hotel\n",
      "x11: Uses_Distribution\n",
      "x12: Uses_Food\n",
      "x13: Uses_Worship\n",
      "x14: Uses_Medical\n",
      "\n",
      "                            OLS Regression Results                            \n",
      "==============================================================================\n",
      "Dep. Variable:                      y   R-squared:                       0.691\n",
      "Model:                            OLS   Adj. R-squared:                  0.688\n",
      "Method:                 Least Squares   F-statistic:                     214.7\n",
      "Date:                Tue, 01 May 2018   Prob (F-statistic):          4.74e-307\n",
      "Time:                        14:20:07   Log-Likelihood:                -3490.7\n",
      "No. Observations:                1263   AIC:                             7009.\n",
      "Df Residuals:                    1249   BIC:                             7081.\n",
      "Df Model:                          13                                         \n",
      "Covariance Type:            nonrobust                                         \n",
      "==============================================================================\n",
      "                 coef    std err          t      P>|t|      [0.025      0.975]\n",
      "------------------------------------------------------------------------------\n",
      "const         53.8383      6.011      8.957      0.000      42.046      65.630\n",
      "x1            -0.1885      0.007    -28.125      0.000      -0.202      -0.175\n",
      "x2            -0.3768      0.076     -4.955      0.000      -0.526      -0.228\n",
      "x3            12.2909      0.318     38.624      0.000      11.667      12.915\n",
      "x4            -0.0261      0.003     -7.734      0.000      -0.033      -0.019\n",
      "x5             5.3651      0.584      9.194      0.000       4.220       6.510\n",
      "x6             5.1215      0.787      6.511      0.000       3.578       6.665\n",
      "x7             8.4917      0.660     12.874      0.000       7.198       9.786\n",
      "x8             0.3820      0.665      0.574      0.566      -0.923       1.687\n",
      "x9             5.7228      0.601      9.521      0.000       4.544       6.902\n",
      "x10            6.0740      1.006      6.037      0.000       4.100       8.048\n",
      "x11            6.2733      0.933      6.721      0.000       4.442       8.104\n",
      "x12            4.7273      0.992      4.764      0.000       2.781       6.674\n",
      "x13            7.8558      0.994      7.904      0.000       5.906       9.806\n",
      "x14            3.8249      0.916      4.175      0.000       2.028       5.622\n",
      "==============================================================================\n",
      "Omnibus:                      681.144   Durbin-Watson:                   1.963\n",
      "Prob(Omnibus):                  0.000   Jarque-Bera (JB):            11035.414\n",
      "Skew:                           2.124   Prob(JB):                         0.00\n",
      "Kurtosis:                      16.844   Cond. No.                     1.02e+19\n",
      "==============================================================================\n",
      "\n",
      "Warnings:\n",
      "[1] Standard Errors assume that the covariance matrix of the errors is correctly specified.\n",
      "[2] The smallest eigenvalue is 4.64e-29. This might indicate that there are\n",
      "strong multicollinearity problems or that the design matrix is singular.\n"
     ]
    }
   ],
   "source": [
    "if version == 'sklearn':\n",
    "    df_coef_G\n",
    "else:\n",
    "    printVariables()\n",
    "    print()\n",
    "    print(results_g.summary())"
   ]
  },
  {
   "cell_type": "code",
   "execution_count": 11,
   "metadata": {},
   "outputs": [
    {
     "name": "stdout",
     "output_type": "stream",
     "text": [
      "Electricity:\n",
      "Constant:\n",
      "-48.5370033385\n",
      "\n",
      "Parameters:\n",
      "[[  0.0134201 ]\n",
      " [  0.0186149 ]\n",
      " [  3.84215552]\n",
      " [  0.01673605]\n",
      " [ 16.40494287]\n",
      " [ 16.26467472]\n",
      " [ 14.9730736 ]\n",
      " [ 19.73691169]\n",
      " [ 16.74386715]\n",
      " [ 16.43865217]\n",
      " [ 15.67306312]\n",
      " [ 16.78455942]\n",
      " [ 14.75130537]\n",
      " [ 17.90513301]]\n",
      "\n",
      "MSE:\n",
      "3.67213156215\n",
      "\n",
      "------------------------------\n",
      "\n",
      "Gas:\n",
      "Constant:\n",
      "53.838274936\n",
      "\n",
      "Parameters:\n",
      "[[ -0.18846923]\n",
      " [ -0.37682062]\n",
      " [ 12.29089102]\n",
      " [ -0.02607116]\n",
      " [  5.3651161 ]\n",
      " [  5.12145345]\n",
      " [  8.49172109]\n",
      " [  0.38197198]\n",
      " [  5.72281296]\n",
      " [  6.07396103]\n",
      " [  6.27325547]\n",
      " [  4.72733824]\n",
      " [  7.85575979]\n",
      " [  3.82488483]]\n",
      "\n",
      "MSE:\n",
      "12.7600393005\n"
     ]
    }
   ],
   "source": [
    "# Computing MSE\n",
    "np.set_printoptions(suppress=True)\n",
    "\n",
    "#predicted comments according to wights\n",
    "def to_pred(f_coef,f_data):\n",
    "    # feature dot product with weights\n",
    "    # feature f_data from testing group\n",
    "    # weight f_coef from training\n",
    "    # predicted comments \n",
    "    constant = f_coef.loc[0,'Const']\n",
    "    f_coef.drop(['Const'], axis = 1, inplace= True)\n",
    "    f_coef = f_coef.T\n",
    "    pred = np.dot(f_data,f_coef)\n",
    "    pred = pred + constant\n",
    "    return pred\n",
    "\n",
    "\n",
    "if version == 'sklearn':\n",
    "    #prediction of testing group \n",
    "    y_pred_E = to_pred(df_coef_E,X_E_test)\n",
    "    y_pred_G = to_pred(df_coef_G,X_G_test)\n",
    "\n",
    "\n",
    "    #true value of testing group\n",
    "    y_true_E = Y_E_test\n",
    "    y_true_G = Y_G_test\n",
    "\n",
    "    #mean squared error\n",
    "    print('---------------Mean Suared Error of Electric---------------')\n",
    "    print(mean_squared_error(y_true_E, y_pred_E))\n",
    "    print('---------------Mean Suared Error of Gas---------------')\n",
    "    print(mean_squared_error(y_true_G, y_pred_G))\n",
    "    \n",
    "else:\n",
    "    \n",
    "    # Electricity\n",
    "    print('Electricity:')\n",
    "    const_e = results_e.params[0]\n",
    "    params_e = results_e.params[1:]\n",
    "    params_e = np.reshape(params_e, (params_e.shape[0], 1))\n",
    "\n",
    "    print('Constant:')\n",
    "    print(const_e)\n",
    "    print()\n",
    "    print('Parameters:')\n",
    "    print(params_e)\n",
    "    print() \n",
    "\n",
    "    # Y_test\n",
    "    Y_hat_e = np.dot(x_eTest, params_e) + const_e\n",
    "    print('MSE:')\n",
    "    print(mean_squared_error(y_eTest, Y_hat_e))\n",
    "    \n",
    "    print()\n",
    "    print('------------------------------')\n",
    "    print()\n",
    "    \n",
    "    # Gas\n",
    "    print('Gas:')\n",
    "    const_g = results_g.params[0]\n",
    "    params_g = results_g.params[1:]\n",
    "    params_g = np.reshape(params_g, (params_g.shape[0], 1))\n",
    "\n",
    "    print('Constant:')\n",
    "    print(const_g)\n",
    "    print()\n",
    "    print('Parameters:')\n",
    "    print(params_g)\n",
    "    print() \n",
    "\n",
    "    # Y_test\n",
    "    Y_hat_g = np.dot(x_gTest, params_g) + const_g\n",
    "    print('MSE:')\n",
    "    print(mean_squared_error(y_gTest, Y_hat_g))\n",
    "       "
   ]
  },
  {
   "cell_type": "code",
   "execution_count": 12,
   "metadata": {
    "collapsed": true
   },
   "outputs": [],
   "source": [
    "# Regularized Version of Linear Regression\n",
    "\n",
    "# TBD..."
   ]
  },
  {
   "cell_type": "code",
   "execution_count": 13,
   "metadata": {},
   "outputs": [],
   "source": [
    "# print('Accuracy of linear model on electricity is',score_linear_mean_E)\n",
    "# print('Accuracy of linear model on gas is', score_linear_mean_G)"
   ]
  },
  {
   "cell_type": "markdown",
   "metadata": {},
   "source": [
    "## Multi-class Logistic Regression"
   ]
  },
  {
   "cell_type": "code",
   "execution_count": 36,
   "metadata": {},
   "outputs": [],
   "source": [
    "# Y_E_logi = df_BU_training_E['Y_E_Level']\n",
    "# Y_G_logi = df_BU_training_G['Y_G_Level']\n",
    "\n",
    "# Y_E_test_logi = df_BU_testing_E['Y_E_Level']\n",
    "# Y_G_test_logi = df_BU_testing_G['Y_G_Level']\n",
    "\n",
    "# # Electricity\n",
    "# x_e_logi = X_E.values\n",
    "# y_e_logi = Y_E_logi.values\n",
    "# x_eTest_logi = X_E_test.values\n",
    "# y_eTest_logi = Y_E_test_logi.values\n",
    "\n",
    "# # Multinomial logistic regression \n",
    "# x_e_logi = sm.add_constant(x_e_logi)\n",
    "\n",
    "# model_e_logi = sm.MNLogit(y_e_logi,x_e_logi)\n",
    "# results_e_logi = model_e_logi.fit(method = 'bfgs')\n",
    "\n",
    "\n",
    "# # Gas\n",
    "# x_g_logi = X_G.values\n",
    "# y_g_logi = Y_G_logi.values\n",
    "# x_gTest_logi = X_G_test.values\n",
    "# y_gTest_logi = Y_G_test_logi.values\n",
    "\n",
    "# # Multinomial logistic regression \n",
    "# x_g_logi = sm.add_constant(x_g_logi)\n",
    "\n",
    "# model_g_logi = sm.MNLogit(y_g_logi,x_g_logi)\n",
    "# results_g_logi = model_g_logi.fit(method = 'bfgs')\n",
    "\n",
    "\n"
   ]
  },
  {
   "cell_type": "code",
   "execution_count": 37,
   "metadata": {},
   "outputs": [],
   "source": [
    "# printVariables()\n",
    "# print()\n",
    "# results_e_logi.summary2()"
   ]
  },
  {
   "cell_type": "code",
   "execution_count": 38,
   "metadata": {},
   "outputs": [],
   "source": [
    "# printVariables()\n",
    "# print()\n",
    "# results_g_logi.summary2()"
   ]
  },
  {
   "cell_type": "code",
   "execution_count": null,
   "metadata": {},
   "outputs": [],
   "source": [
    "# # Run Logistic Regression\n",
    "# # df_BU_analysis_E\n",
    "# # df_BU_analysis_G\n",
    "\n",
    "\n",
    "# # Traning Data\n",
    "# X_E = df_BU_training_E[X_column]\n",
    "# X_G = df_BU_training_G[X_column]\n",
    "\n",
    "# Y_E = df_BU_training_E['Y_E_Level']\n",
    "# Y_G = df_BU_training_G['Y_G_Level']\n",
    "\n",
    "\n",
    "# # Testing Data\n",
    "# X_E_test = df_BU_testing_E[X_column]\n",
    "# X_G_test = df_BU_testing_G[X_column]\n",
    "\n",
    "# Y_E_test = df_BU_testing_E['Y_E_Level']\n",
    "# Y_G_test = df_BU_testing_G['Y_G_Level']\n",
    "\n",
    "\n",
    "# logr_model_E = LogisticRegression()\n",
    "# logr_model_G = LogisticRegression()\n",
    "\n",
    "# logr_model_E.fit(X_E, Y_E)\n",
    "# logr_model_G.fit(X_G, Y_G)\n",
    "\n",
    "# score_E = cross_val_score(logr_model_E, X_E, Y_E, cv=3)\n",
    "# score_G = cross_val_score(logr_model_G, X_G, Y_G, cv=3)\n",
    "\n",
    "# score_logr_mean_E = score_E.mean()\n",
    "# score_logr_mean_G = score_G.mean()\n",
    "\n",
    "# print('Accuracy of logistic model on electricity is',score_logr_mean_E)\n",
    "# print('Accuracy of logistic model on gas is', score_logr_mean_G)\n",
    "\n",
    "# print('------------------------------------------------')\n",
    "\n",
    "# logr_E_coef = logr_model_E.coef_\n",
    "# logr_G_coef = logr_model_G.coef_\n",
    "# print(logr_E_coef[0, :])\n",
    "# # print(logr_G_coef.shape)"
   ]
  },
  {
   "cell_type": "markdown",
   "metadata": {},
   "source": [
    "## Multi-class SVM"
   ]
  },
  {
   "cell_type": "code",
   "execution_count": null,
   "metadata": {
    "collapsed": true
   },
   "outputs": [],
   "source": [
    "# Run SVM\n"
   ]
  },
  {
   "cell_type": "markdown",
   "metadata": {},
   "source": [
    "## Neural Networks"
   ]
  },
  {
   "cell_type": "code",
   "execution_count": null,
   "metadata": {
    "collapsed": true
   },
   "outputs": [],
   "source": [
    "# Run NN\n"
   ]
  }
 ],
 "metadata": {
  "kernelspec": {
   "display_name": "Python 3",
   "language": "python",
   "name": "python3"
  },
  "language_info": {
   "codemirror_mode": {
    "name": "ipython",
    "version": 3
   },
   "file_extension": ".py",
   "mimetype": "text/x-python",
   "name": "python",
   "nbconvert_exporter": "python",
   "pygments_lexer": "ipython3",
   "version": "3.6.3"
  }
 },
 "nbformat": 4,
 "nbformat_minor": 2
}
