{
 "cells": [
  {
   "cell_type": "markdown",
   "metadata": {},
   "source": [
    "# CS506 Project Initial Report\n",
    "\n",
    "**Chengyu Deng, Xiaotong Niu, Qian Zhang**\n"
   ]
  },
  {
   "cell_type": "markdown",
   "metadata": {},
   "source": [
    "**Part 1 Data processing**\n",
    "\n",
    "We use BERDO data to do the analysis.\n",
    "\n",
    "2017: berdo2017.csv\n",
    "\n",
    "2016: 2016-reported-energy-and-water-metrics.xlsx\n",
    "\n",
    "2015: 2015-reported-energy-and-water-metrics.xlsx\n"
   ]
  },
  {
   "cell_type": "code",
   "execution_count": 2,
   "metadata": {
    "collapsed": true
   },
   "outputs": [],
   "source": [
    "import csv\n",
    "import pandas as pd\n",
    "\n",
    "# 2015 xlsx -> csv\n",
    "data_2015_xlsx = pd.read_excel('2015-reported-energy-and-water-metrics.xlsx', index_col=None)\n",
    "data_2015_xlsx.to_csv('berdo2015.csv')\n",
    "\n",
    "# 2016 xlsx -> csv\n",
    "data_2016_xlsx = pd.read_excel('2016-reported-energy-and-water-metrics.xlsx', index_col=None)\n",
    "data_2016_xlsx.to_csv('berdo2016.csv')\n",
    "\n",
    "# 2017\n",
    "df_2015 = pd.read_csv('berdo2015.csv')\n",
    "df_2016 = pd.read_csv('berdo2016.csv')\n",
    "df_2017 = pd.read_csv('berdo2017.csv', encoding = \"ISO-8859-1\")\n"
   ]
  },
  {
   "cell_type": "code",
   "execution_count": 4,
   "metadata": {},
   "outputs": [
    {
     "name": "stdout",
     "output_type": "stream",
     "text": [
      "<class 'pandas.core.frame.DataFrame'>\n",
      "<class 'pandas.core.frame.DataFrame'>\n",
      "<class 'pandas.core.frame.DataFrame'>\n",
      "(1380, 23)\n",
      "(1502, 23)\n",
      "(1800, 23)\n",
      "-------------------------------\n",
      "['Unnamed: 0', 'Property Name', 'Reported', 'Property Type', 'Address', 'ZIP', 'Gross Area (sq ft)', 'Site EUI (kBTU/sf)', 'Energy Star Score', 'Energy Star Certified', 'Property Uses', 'Year Built', 'GHG Emissions (MTCO2e)', 'GHG Intensity (kgCO2/sf)', 'Total Site Energy (kBTU)', '% Electricity', '% Gas', '% Steam', 'Water Intensity (gal/sf)', 'Onsite Solar (kWh)', 'User Submitted Info', 'User Submitted Link', 'Tax Parcel']\n",
      "-------------------------------\n",
      "['Unnamed: 0', 'Property Name', 'Reported', 'Property Type', 'Address', 'ZIP', 'Gross Area (sq ft)', 'Site EUI (kBTU/sf)', 'Energy Star Score', 'Energy Star Certified', 'Property Uses', 'Year Built', 'GHG Emissions (MTCO2e)', 'GHG Intensity (kgCO2/sf)', 'Total Site Energy (kBTU)', '% Electricity', '% Gas', '% Steam', 'Water Intensity (gal/sf)', 'Onsite Solar (kWh)', 'User Submitted Info', 'User Submitted Link', 'Tax Parcel']\n",
      "-------------------------------\n",
      "['Unnamed: 0', 'Property Name', 'Reported', 'Property Type', 'Address', 'ZIP', ' Gross Area (sq ft) ', 'Site EUI (kBTU/sf)', 'Energy Star Score', 'Energy Star Certified', 'Property Uses', 'Year Built', ' GHG Emissions (MTCO2e) ', 'GHG Intensity (kgCO2/sf)', ' Total Site Energy (kBTU) ', '% Electricity', '% Gas', '% Steam', 'Water Intensity (gal/sf)', 'Onsite Renewable (kWh)', 'User Submitted Info', 'User Submitted Link', 'Tax Parcel']\n",
      "-------------------------------\n",
      "\n",
      "\n",
      "<class 'pandas.core.frame.DataFrame'>\n",
      "<class 'pandas.core.frame.DataFrame'>\n",
      "<class 'pandas.core.frame.DataFrame'>\n",
      "(1380, 23)\n",
      "(1502, 23)\n",
      "(1800, 23)\n",
      "-------------------------------\n",
      "['Unnamed: 0', 'Property Name', 'Reported', 'Property Type', 'Address', 'ZIP', 'Gross Area (sq ft)', 'Site EUI (kBTU/sf)', 'Energy Star Score', 'Energy Star Certified', 'Property Uses', 'Year Built', 'GHG Emissions (MTCO2e)', 'GHG Intensity (kgCO2/sf)', 'Total Site Energy (kBTU)', '% Electricity', '% Gas', '% Steam', 'Water Intensity (gal/sf)', 'Onsite Solar (kWh)', 'User Submitted Info', 'User Submitted Link', 'Tax Parcel']\n",
      "-------------------------------\n",
      "['Unnamed: 0', 'Property Name', 'Reported', 'Property Type', 'Address', 'ZIP', 'Gross Area (sq ft)', 'Site EUI (kBTU/sf)', 'Energy Star Score', 'Energy Star Certified', 'Property Uses', 'Year Built', 'GHG Emissions (MTCO2e)', 'GHG Intensity (kgCO2/sf)', 'Total Site Energy (kBTU)', '% Electricity', '% Gas', '% Steam', 'Water Intensity (gal/sf)', 'Onsite Solar (kWh)', 'User Submitted Info', 'User Submitted Link', 'Tax Parcel']\n",
      "-------------------------------\n",
      "['Unnamed: 0', 'Property Name', 'Reported', 'Property Type', 'Address', 'ZIP', 'Gross Area (sq ft)', 'Site EUI (kBTU/sf)', 'Energy Star Score', 'Energy Star Certified', 'Property Uses', 'Year Built', 'GHG Emissions (MTCO2e)', 'GHG Intensity (kgCO2/sf)', 'Total Site Energy (kBTU)', '% Electricity', '% Gas', '% Steam', 'Water Intensity (gal/sf)', 'Onsite Renewable (kWh)', 'User Submitted Info', 'User Submitted Link', 'Tax Parcel']\n",
      "-------------------------------\n"
     ]
    }
   ],
   "source": [
    "print(type(df_2015))\n",
    "print(type(df_2016))\n",
    "print(type(df_2017))\n",
    "print(df_2015.shape)\n",
    "print(df_2016.shape)\n",
    "print(df_2017.shape)\n",
    "\n",
    "print('-------------------------------')\n",
    "print(list(df_2015.columns.values))\n",
    "print('-------------------------------')\n",
    "print(list(df_2016.columns.values))\n",
    "print('-------------------------------')\n",
    "print(list(df_2017.columns.values))\n",
    "print('-------------------------------')\n",
    "\n",
    "if 'Years Reported' in df_2016:\n",
    "    df_2016.drop('Years Reported', axis = 1, inplace = True)\n",
    "if 'Years Reported' in df_2017:\n",
    "    df_2017.drop('Years Reported', axis = 1, inplace = True)\n",
    "\n",
    "if ' Gross Area (sq ft) ' in df_2017:\n",
    "    df_2017.rename(index=str, columns={' Gross Area (sq ft) ': 'Gross Area (sq ft)'}, inplace = True)\n",
    "if ' GHG Emissions (MTCO2e) ' in df_2017:\n",
    "    df_2017.rename(index=str, columns={' GHG Emissions (MTCO2e) ': 'GHG Emissions (MTCO2e)'}, inplace = True)\n",
    "if ' Total Site Energy (kBTU) ' in df_2017:\n",
    "    df_2017.rename(index=str, columns={' Total Site Energy (kBTU) ': 'Total Site Energy (kBTU)'}, inplace = True)\n",
    "if ' Onsite Renewable (kWh) ' in df_2017:\n",
    "    df_2017.rename(index=str, columns={' Onsite Renewable (kWh) ': 'Onsite Renewable (kWh)'}, inplace = True)\n",
    "\n",
    "print()\n",
    "print()\n",
    "print(type(df_2015))\n",
    "print(type(df_2016))\n",
    "print(type(df_2017))\n",
    "print(df_2015.shape)\n",
    "print(df_2016.shape)\n",
    "print(df_2017.shape)\n",
    "print('-------------------------------')\n",
    "print(list(df_2015.columns.values))\n",
    "print('-------------------------------')\n",
    "print(list(df_2016.columns.values))\n",
    "print('-------------------------------')\n",
    "print(list(df_2017.columns.values))\n",
    "print('-------------------------------')"
   ]
  },
  {
   "cell_type": "code",
   "execution_count": null,
   "metadata": {
    "collapsed": true
   },
   "outputs": [],
   "source": [
    "# Select properties which belong to BU\n",
    "with open(\"BU_Property_List.csv\", 'r') as propertyFile:\n",
    "    reader = csv.reader(propertyFile, delimiter='\\t')\n",
    "    propertyList_convol = list(reader)\n",
    "    \n",
    "    propertyList = []\n",
    "    for each in propertyList_convol:\n",
    "        for element in each:\n",
    "            propertyList.append(element)\n",
    "\n",
    "print(len(propertyList))\n",
    "print('------------------------------------')\n",
    "print(propertyList)\n",
    "\n",
    "# print(df.loc[df['B'].isin(['one','three'])])\n",
    "\n",
    "df2015_BU = df_2015.loc[df_2015['Property Name'].isin(propertyList)]\n",
    "df2016_BU = df_2016.loc[df_2016['Property Name'].isin(propertyList)]\n",
    "df2017_BU = df_2017.loc[df_2017['Property Name'].isin(propertyList)]\n",
    "\n",
    "print('------------------------------------')\n",
    "print(df2015_BU.shape)\n",
    "print(df2016_BU.shape)\n",
    "print(df2017_BU.shape)\n",
    "\n",
    "print('------------------------------------')\n",
    "# print(df2015_BU)\n",
    "# print(df2016_BU)\n",
    "# print(df2017_BU)\n"
   ]
  },
  {
   "cell_type": "code",
   "execution_count": null,
   "metadata": {
    "collapsed": true
   },
   "outputs": [],
   "source": []
  }
 ],
 "metadata": {
  "kernelspec": {
   "display_name": "Python 3",
   "language": "python",
   "name": "python3"
  },
  "language_info": {
   "codemirror_mode": {
    "name": "ipython",
    "version": 3
   },
   "file_extension": ".py",
   "mimetype": "text/x-python",
   "name": "python",
   "nbconvert_exporter": "python",
   "pygments_lexer": "ipython3",
   "version": "3.6.3"
  }
 },
 "nbformat": 4,
 "nbformat_minor": 2
}
