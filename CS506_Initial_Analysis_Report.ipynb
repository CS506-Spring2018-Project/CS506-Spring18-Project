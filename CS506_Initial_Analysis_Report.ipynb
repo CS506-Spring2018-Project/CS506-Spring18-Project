{
 "cells": [
  {
   "cell_type": "markdown",
   "metadata": {},
   "source": [
    "# CS506 Project Initial Report\n",
    "\n",
    "**Chengyu Deng, Xiaotong Niu, Qian Zhang**\n"
   ]
  },
  {
   "cell_type": "markdown",
   "metadata": {},
   "source": [
    "**Part 1 Data processing**\n",
    "\n",
    "We use BERDO data to do the analysis.\n",
    "\n",
    "2017: berdo2017.csv\n",
    "\n",
    "2016: 2016-reported-energy-and-water-metrics.xlsx\n",
    "\n",
    "2015: 2015-reported-energy-and-water-metrics.xlsx\n"
   ]
  },
  {
   "cell_type": "code",
   "execution_count": 1,
   "metadata": {
    "collapsed": true
   },
   "outputs": [],
   "source": [
    "import csv\n",
    "import pandas as pd\n",
    "\n",
    "# 2015 xlsx -> csv\n",
    "data_2015_xlsx = pd.read_excel('2015-reported-energy-and-water-metrics.xlsx', index_col=None)\n",
    "data_2015_xlsx.to_csv('berdo2015.csv')\n",
    "\n",
    "# 2016 xlsx -> csv\n",
    "data_2016_xlsx = pd.read_excel('2016-reported-energy-and-water-metrics.xlsx', index_col=None)\n",
    "data_2016_xlsx.to_csv('berdo2016.csv')\n",
    "\n",
    "# 2017\n",
    "df_2015 = pd.read_csv('berdo2015.csv')\n",
    "df_2016 = pd.read_csv('berdo2016.csv')\n",
    "df_2017 = pd.read_csv('berdo2017.csv', encoding = \"ISO-8859-1\")\n"
   ]
  },
  {
   "cell_type": "code",
   "execution_count": 2,
   "metadata": {},
   "outputs": [
    {
     "name": "stdout",
     "output_type": "stream",
     "text": [
      "<class 'pandas.core.frame.DataFrame'>\n",
      "<class 'pandas.core.frame.DataFrame'>\n",
      "<class 'pandas.core.frame.DataFrame'>\n",
      "(1380, 23)\n",
      "(1502, 24)\n",
      "(1800, 24)\n",
      "-------------------------------\n",
      "['Unnamed: 0', 'Property Name', 'Reported', 'Property Type', 'Address', 'ZIP', 'Gross Area (sq ft)', 'Site EUI (kBTU/sf)', 'Energy Star Score', 'Energy Star Certified', 'Property Uses', 'Year Built', 'GHG Emissions (MTCO2e)', 'GHG Intensity (kgCO2/sf)', 'Total Site Energy (kBTU)', '% Electricity', '% Gas', '% Steam', 'Water Intensity (gal/sf)', 'Onsite Solar (kWh)', 'User Submitted Info', 'User Submitted Link', 'Tax Parcel']\n",
      "-------------------------------\n",
      "['Unnamed: 0', 'Property Name', 'Reported', 'Property Type', 'Address', 'ZIP', 'Gross Area (sq ft)', 'Site EUI (kBTU/sf)', 'Energy Star Score', 'Energy Star Certified', 'Property Uses', 'Year Built', 'GHG Emissions (MTCO2e)', 'GHG Intensity (kgCO2/sf)', 'Total Site Energy (kBTU)', '% Electricity', '% Gas', '% Steam', 'Water Intensity (gal/sf)', 'Onsite Solar (kWh)', 'User Submitted Info', 'User Submitted Link', 'Tax Parcel', 'Years Reported']\n",
      "-------------------------------\n",
      "['Unnamed: 0', 'Property Name', 'Reported', 'Property Type', 'Address', 'ZIP', ' Gross Area (sq ft) ', 'Site EUI (kBTU/sf)', 'Energy Star Score', 'Energy Star Certified', 'Property Uses', 'Year Built', ' GHG Emissions (MTCO2e) ', 'GHG Intensity (kgCO2/sf)', ' Total Site Energy (kBTU) ', '% Electricity', '% Gas', '% Steam', 'Water Intensity (gal/sf)', ' Onsite Renewable (kWh) ', 'User Submitted Info', 'User Submitted Link', 'Tax Parcel', 'Years Reported']\n",
      "-------------------------------\n",
      "\n",
      "\n",
      "<class 'pandas.core.frame.DataFrame'>\n",
      "<class 'pandas.core.frame.DataFrame'>\n",
      "<class 'pandas.core.frame.DataFrame'>\n",
      "(1380, 23)\n",
      "(1502, 23)\n",
      "(1800, 23)\n",
      "-------------------------------\n",
      "['Unnamed: 0', 'Property Name', 'Reported', 'Property Type', 'Address', 'ZIP', 'Gross Area (sq ft)', 'Site EUI (kBTU/sf)', 'Energy Star Score', 'Energy Star Certified', 'Property Uses', 'Year Built', 'GHG Emissions (MTCO2e)', 'GHG Intensity (kgCO2/sf)', 'Total Site Energy (kBTU)', '% Electricity', '% Gas', '% Steam', 'Water Intensity (gal/sf)', 'Onsite Solar (kWh)', 'User Submitted Info', 'User Submitted Link', 'Tax Parcel']\n",
      "-------------------------------\n",
      "['Unnamed: 0', 'Property Name', 'Reported', 'Property Type', 'Address', 'ZIP', 'Gross Area (sq ft)', 'Site EUI (kBTU/sf)', 'Energy Star Score', 'Energy Star Certified', 'Property Uses', 'Year Built', 'GHG Emissions (MTCO2e)', 'GHG Intensity (kgCO2/sf)', 'Total Site Energy (kBTU)', '% Electricity', '% Gas', '% Steam', 'Water Intensity (gal/sf)', 'Onsite Solar (kWh)', 'User Submitted Info', 'User Submitted Link', 'Tax Parcel']\n",
      "-------------------------------\n",
      "['Unnamed: 0', 'Property Name', 'Reported', 'Property Type', 'Address', 'ZIP', ' Gross Area (sq ft) ', 'Site EUI (kBTU/sf)', 'Energy Star Score', 'Energy Star Certified', 'Property Uses', 'Year Built', ' GHG Emissions (MTCO2e) ', 'GHG Intensity (kgCO2/sf)', ' Total Site Energy (kBTU) ', '% Electricity', '% Gas', '% Steam', 'Water Intensity (gal/sf)', ' Onsite Renewable (kWh) ', 'User Submitted Info', 'User Submitted Link', 'Tax Parcel']\n",
      "-------------------------------\n"
     ]
    }
   ],
   "source": [
    "print(type(df_2015))\n",
    "print(type(df_2016))\n",
    "print(type(df_2017))\n",
    "print(df_2015.shape)\n",
    "print(df_2016.shape)\n",
    "print(df_2017.shape)\n",
    "\n",
    "print('-------------------------------')\n",
    "print(list(df_2015.columns.values))\n",
    "print('-------------------------------')\n",
    "print(list(df_2016.columns.values))\n",
    "print('-------------------------------')\n",
    "print(list(df_2017.columns.values))\n",
    "print('-------------------------------')\n",
    "\n",
    "df_2016.drop('Years Reported', axis = 1, inplace = True)\n",
    "df_2017.drop('Years Reported', axis = 1, inplace = True)\n",
    "\n",
    "print()\n",
    "print()\n",
    "print(type(df_2015))\n",
    "print(type(df_2016))\n",
    "print(type(df_2017))\n",
    "print(df_2015.shape)\n",
    "print(df_2016.shape)\n",
    "print(df_2017.shape)\n",
    "print('-------------------------------')\n",
    "print(list(df_2015.columns.values))\n",
    "print('-------------------------------')\n",
    "print(list(df_2016.columns.values))\n",
    "print('-------------------------------')\n",
    "print(list(df_2017.columns.values))\n",
    "print('-------------------------------')"
   ]
  },
  {
   "cell_type": "code",
   "execution_count": 3,
   "metadata": {},
   "outputs": [
    {
     "name": "stdout",
     "output_type": "stream",
     "text": [
      "62\n",
      "------------------------------------\n",
      "['785 Commonwealth Avenue (1 University Road)', '233 Bay State Road', \"6-8 St. Mary's Street\", '722-728 Commonwealth Avenue', '40-48 Buswell Street', '514-522 Park Drive', '110-112 Cummington Street', '700 Commonwealth Avenue', '64-86 Cummington Street', '22-24 Buswell Street', '10-18 Buswell Street', '213-217 Bay State Road', '631-639 Commonwealth Avenue', '605-615 Commonwealth Avenue (2 Silber Way)', '111 Cummington Street (664-666 Comm. Ave)', '30-38 Cummington Street', '20-28 Cummington Street (24 Cummington St)', '2 Cummington Street (23-25 Blandford Street)', '622-640 Commonwealth Avenue', '610 Commonwealth Avenue', '582-596 Commonwealth Avenue (590 Comm / 712 Bea)', '580 Commonwealth Avenue', 'Hotel Commonwealth', '631-639 Commonwealth Avenue', '605-615 Commonwealth Avenue (2 Silber Way)', '140 Bay State Road', '577-599 Commonwealth Avenue (595 Comm Ave)', '565-575 Commonwealth Avenue', '100 Bay State Road', '91 Bay State Road', '660 Beacon Street', '642-648 Beacon Street', '610 Beacon Street (30 Bay State Road)', '512 Beacon Street', '664 Malvern Street', '100 Ashford Street', '120 Ashford Street', '300 Babcock Street', '285 Babcock, Case Center', '983-985 Commonwealth Avenue', '925 Commonwealth Avenue', '33 Harry Agganis Way', '915 Commonwealth Avenue', '10 Buick Street', '25 Buick Street', '881 Commonwealth Avenue', '871 Commonwealth Avenue', '855 Commonwealth Avenue', '560 Harrison Ave', '580 Harrison Ave', '610 Albany Street', '620 Albany Street', '650 Albany Street', 'Biosquare - Phase I', '700 Albany Street', '710 Albany Street', '801 Massachusetts Avenue (EPL)', '100 East Newton Street (635 Albany) G Building', '82 East Concord Street (715 Albany Street)', '75-85 East Newton Street (Evans) E Building', '778-780 Harrison Avenue R (10 Stoughton)', '790 Harrison Ave (71 East Concord) K Building']\n",
      "------------------------------------\n",
      "(55, 23)\n",
      "(56, 23)\n",
      "(59, 23)\n",
      "------------------------------------\n"
     ]
    }
   ],
   "source": [
    "# Select properties which belong to BU\n",
    "with open(\"BU_Property_List.csv\", 'r') as propertyFile:\n",
    "    reader = csv.reader(propertyFile, delimiter='\\t')\n",
    "    propertyList_convol = list(reader)\n",
    "    \n",
    "    propertyList = []\n",
    "    for each in propertyList_convol:\n",
    "        for element in each:\n",
    "            propertyList.append(element)\n",
    "\n",
    "print(len(propertyList))\n",
    "print('------------------------------------')\n",
    "print(propertyList)\n",
    "\n",
    "# print(df.loc[df['B'].isin(['one','three'])])\n",
    "\n",
    "df2015_BU = df_2015.loc[df_2015['Property Name'].isin(propertyList)]\n",
    "df2016_BU = df_2016.loc[df_2016['Property Name'].isin(propertyList)]\n",
    "df2017_BU = df_2017.loc[df_2017['Property Name'].isin(propertyList)]\n",
    "\n",
    "print('------------------------------------')\n",
    "print(df2015_BU.shape)\n",
    "print(df2016_BU.shape)\n",
    "print(df2017_BU.shape)\n",
    "\n",
    "print('------------------------------------')\n",
    "# print(df2015_BU)\n",
    "# print(df2016_BU)\n",
    "# print(df2017_BU)\n"
   ]
  },
  {
   "cell_type": "code",
   "execution_count": null,
   "metadata": {
    "collapsed": true
   },
   "outputs": [],
   "source": []
  }
 ],
 "metadata": {
  "kernelspec": {
   "display_name": "Python 3",
   "language": "python",
   "name": "python3"
  },
  "language_info": {
   "codemirror_mode": {
    "name": "ipython",
    "version": 3
   },
   "file_extension": ".py",
   "mimetype": "text/x-python",
   "name": "python",
   "nbconvert_exporter": "python",
   "pygments_lexer": "ipython3",
   "version": "3.6.3"
  }
 },
 "nbformat": 4,
 "nbformat_minor": 2
}
